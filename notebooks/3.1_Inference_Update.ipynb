{
 "cells": [
  {
   "cell_type": "code",
   "execution_count": 1,
   "metadata": {},
   "outputs": [
    {
     "name": "stderr",
     "output_type": "stream",
     "text": [
      "/home/jacopo.lenti/miniconda3/envs/lotm_env/lib/python3.9/site-packages/tqdm/auto.py:21: TqdmWarning: IProgress not found. Please update jupyter and ipywidgets. See https://ipywidgets.readthedocs.io/en/stable/user_install.html\n",
      "  from .autonotebook import tqdm as notebook_tqdm\n"
     ]
    }
   ],
   "source": [
    "import sys \n",
    "sys.path += [\"../src\"]\n",
    "import BC_leaders, BC_update\n",
    "import numpy as np\n",
    "from tqdm import tqdm\n",
    "from time import time\n",
    "import pickle\n",
    "from glob import glob\n",
    "from pyABC_ import pyabc\n",
    "from scipy.special import expit as np_sigmoid\n",
    "\n",
    "import os\n",
    "from tempfile import gettempdir\n",
    "from pyABC_.pyabc.sampler import SingleCoreSampler\n",
    "from jax.scipy.special import expit as sigmoid\n",
    "import jax\n",
    "import jax.numpy as jnp\n",
    "from jax.experimental import sparse\n",
    "from numpyro.infer import SVI, Trace_ELBO, TraceGraph_ELBO, MCMC, NUTS\n",
    "from numpyro.infer.autoguide import AutoNormal, AutoBNAFNormal, AutoIAFNormal\n",
    "from numpyro import distributions\n",
    "import numpyro\n",
    "from numpyro.optim import Adam\n",
    "import jax.random as random\n",
    "from datetime import timedelta\n",
    "# numpyro.set_platform(\"gpu\")\n",
    "from diptest import dipstat\n",
    "from scipy.stats import kurtosis, skew\n",
    "import matplotlib.pyplot as plt"
   ]
  },
  {
   "cell_type": "code",
   "execution_count": 29,
   "metadata": {},
   "outputs": [
    {
     "data": {
      "text/plain": [
       "<module 'BC_update' from '/home/jacopo.lenti/LOTM/notebooks/../src/BC_update.py'>"
      ]
     },
     "execution_count": 29,
     "metadata": {},
     "output_type": "execute_result"
    }
   ],
   "source": [
    "from importlib import reload\n",
    "reload(BC_update)"
   ]
  },
  {
   "cell_type": "code",
   "execution_count": 5,
   "metadata": {},
   "outputs": [],
   "source": [
    "#### previous update ####\n",
    "\n",
    "\n",
    "######## numpyro #############\n",
    "def count_s_from_edge(e): # e = (u,v,s,t)\n",
    "    e = jnp.int32(e)\n",
    "    e_unique_pairs, e_unique_count = jnp.unique(e, axis = 0, return_counts = True)\n",
    "    e_unique_weigths = e_unique_pairs[:,2] * e_unique_count\n",
    "    return e_unique_weigths, e_unique_pairs[:,:2]\n",
    "\n",
    "def edges_coo_mu(edges, N):\n",
    "    M_list = [sparse.BCOO(count_s_from_edge(edges[t]),\n",
    "                          shape = jnp.array([N,N])) for t in range(len(edges))]\n",
    "    return M_list\n",
    "\n",
    "def compute_Xt(Xt, M_plus_t, M_minus_t, mu_plus, mu_minus):\n",
    "    M_plus_t_dense, M_minus_t_dense  = M_plus_t.todense(), M_minus_t.todense()\n",
    "    diff_X_plus = (Xt * M_plus_t_dense.T).sum(axis = 1) - (Xt * M_plus_t_dense).sum(axis = 0)\n",
    "    diff_X_minus = (Xt * M_minus_t_dense.T).sum(axis = 1) - (Xt * M_minus_t_dense).sum(axis = 0)\n",
    "    updates_plus = mu_plus * diff_X_plus\n",
    "    updates_minus = mu_minus * diff_X_minus\n",
    "    Xt = Xt + updates_plus - updates_minus\n",
    "    Xt_data_clipped = jnp.clip(Xt.copy(), 0, 1)\n",
    "    Xt = Xt_data_clipped\n",
    "    return Xt\n",
    "\n",
    "\n",
    "def update_X(M_plus, M_minus, mu_plus, mu_minus, Xt, X_list = [], t = 0, T_max = 0):\n",
    "    M_plus_t, M_minus_t = M_plus[t], M_minus[t]\n",
    "    Xt = compute_Xt(Xt, M_plus_t, M_minus_t, mu_plus, mu_minus)\n",
    "    X_list.append(Xt[None,:])\n",
    "    t += 1\n",
    "    if t < T_max-1:\n",
    "        update_X(M_plus, M_minus, mu_plus, mu_minus, Xt, X_list, t, T_max)\n",
    "        \n",
    "    return X_list\n"
   ]
  },
  {
   "cell_type": "code",
   "execution_count": 6,
   "metadata": {},
   "outputs": [],
   "source": [
    "#### new update M ####\n",
    "\n",
    "\n",
    "######## numpyro #############\n",
    "def count_s_from_edge(e): # e = (u,v,s,t)\n",
    "    e = jnp.int32(e)\n",
    "    e_unique_pairs, e_unique_count = jnp.unique(e, axis = 0, return_counts = True)\n",
    "    e_unique_weigths = e_unique_pairs[:,2] * e_unique_count\n",
    "    return e_unique_weigths, e_unique_pairs[:,:2]\n",
    "\n",
    "def edges_coo_mu(edges, N):\n",
    "    M_list = [sparse.BCOO(count_s_from_edge(edges[t]),\n",
    "                          shape = jnp.array([N,N])).todense() for t in range(len(edges))]\n",
    "    return M_list\n",
    "\n",
    "def compute_Xt(Xt, M_plus_t_dense, M_minus_t_dense, mu_plus, mu_minus):\n",
    "    # M_plus_t_dense, M_minus_t_dense  = M_plus_t.todense(), M_minus_t.todense()\n",
    "    diff_X_plus = (Xt * M_plus_t_dense.T).sum(axis = 1) - (Xt * M_plus_t_dense).sum(axis = 0)\n",
    "    diff_X_minus = (Xt * M_minus_t_dense.T).sum(axis = 1) - (Xt * M_minus_t_dense).sum(axis = 0)\n",
    "    updates_plus = mu_plus * diff_X_plus\n",
    "    updates_minus = mu_minus * diff_X_minus\n",
    "    Xt = Xt + updates_plus - updates_minus\n",
    "    Xt_data_clipped = jnp.clip(Xt.copy(), 0, 1)\n",
    "    Xt = Xt_data_clipped\n",
    "    return Xt\n",
    "\n",
    "\n",
    "def update_X(M_plus, M_minus, mu_plus, mu_minus, Xt, X_list = [], t = 0, T_max = 0):\n",
    "    M_plus_t, M_minus_t = M_plus[t], M_minus[t]\n",
    "    Xt = compute_Xt(Xt, M_plus_t, M_minus_t, mu_plus, mu_minus)\n",
    "    X_list.append(Xt[None,:])\n",
    "    t += 1\n",
    "    if t < T_max-1:\n",
    "        update_X(M_plus, M_minus, mu_plus, mu_minus, Xt, X_list, t, T_max)\n",
    "        \n",
    "    return X_list\n"
   ]
  },
  {
   "cell_type": "code",
   "execution_count": 7,
   "metadata": {},
   "outputs": [],
   "source": [
    "#### new update ####\n",
    "\n",
    "def compute_X_from_X0_params(X0, edges_iter, epsilon_plus, epsilon_minus, mu_plus, mu_minus, rho):\n",
    "    # edges_iter = (edges_t for edges_t in edges)\n",
    "    # Xt = jax.lax.stop_gradient(X0.copy())\n",
    "    Xt = X0.copy()\n",
    "    X_list = [Xt]\n",
    "    \n",
    "    N = len(Xt)\n",
    "    \n",
    "    while True:\n",
    "        edges_t = next(edges_iter, None)\n",
    "        if edges_t is None:\n",
    "            break\n",
    "        \n",
    "        # u,v,_,_ = edges_t.T\n",
    "        u,v,s_plus,s_minus = edges_t.T\n",
    "        u,v = u.astype(int),v.astype(int)\n",
    "        diff_X = Xt[u] - Xt[v]\n",
    "        # s_plus = ((np.random.rand(edge_per_t) < np_sigmoid(rho * (epsilon_plus - np.abs(diff_X))))) + 0\n",
    "        # s_minus = ((np.random.rand(edge_per_t) < np_sigmoid(-rho * (epsilon_minus - np.abs(diff_X))))) + 0\n",
    "        # s_plus =  (np.abs(diff_X) < epsilon_plus) + 0\n",
    "        # s_minus = (np.abs(diff_X) > epsilon_minus) + 0\n",
    "\n",
    "        updates_plus = mu_plus * s_plus * diff_X\n",
    "        updates_minus = mu_minus * s_minus * diff_X\n",
    "        Xt = Xt.at[v].add(updates_plus - updates_minus).clip(1e-5, 1 - 1e-5)\n",
    "        # Xt[v] += updates_plus - updates_minus\n",
    "        # Xt[v] = np.clip(Xt[v], 1e-5, 1 - 1e-5)\n",
    "        \n",
    "        X_list.append(Xt)\n",
    "\n",
    "    return jnp.stack(X_list)\n"
   ]
  },
  {
   "cell_type": "code",
   "execution_count": 8,
   "metadata": {},
   "outputs": [],
   "source": [
    "# def initialize_training(X, edges, rho = 32):\n",
    "#     T, N = X.shape    \n",
    "#     edges_iter = (edges_t for edges_t in edges)\n",
    "#     u,v,s_plus,s_minus,t = BC_leaders.convert_edges_uvst(edges)\n",
    "#     s_plus, s_minus = jnp.float32(s_plus), jnp.float32(s_minus)\n",
    "\n",
    "#     # X0 = np.array(X[0])\n",
    "#     X0 = jnp.array(X[0].copy())\n",
    "#     return {\"u\": u, \"v\": v, \"s_plus\": s_plus, \"s_minus\": s_minus, \"t\": t,\n",
    "#             \"N\": N, \"T\": T, \"rho\": rho, \"X0\": X0,# \"edges\":edges\n",
    "#             \"edges_iter\": edges_iter\n",
    "#             }\n",
    "\n",
    "def initialize_training(X, edges, rho = 32):\n",
    "    T, N = X.shape    \n",
    "    u,v,s_plus,s_minus,t = BC_leaders.convert_edges_uvst(edges)\n",
    "    s_plus, s_minus = jnp.float32(s_plus), jnp.float32(s_minus)\n",
    "\n",
    "    M_plus_list = edges_coo_mu(edges[:,:,[0,1,2]], N)\n",
    "    M_minus_list = edges_coo_mu(edges[:,:,[0,1,3]], N)\n",
    "\n",
    "    X0 = jnp.array(X[0])\n",
    "    return {\"u\": u, \"v\": v, \"s_plus\": s_plus, \"s_minus\": s_minus, \"t\": t,\n",
    "            \"N\": N, \"T\": T, \"rho\": rho, \"X0\": X0, \n",
    "            \"M_plus_list\": M_plus_list, \"M_minus_list\": M_minus_list}\n",
    "\n"
   ]
  },
  {
   "cell_type": "code",
   "execution_count": 9,
   "metadata": {},
   "outputs": [],
   "source": [
    "def model(data):\n",
    "    dim = 4\n",
    "    dist = distributions.Normal(jnp.zeros(dim), jnp.ones(dim)).to_event(1)\n",
    "    params = numpyro.sample(\"theta\", dist)\n",
    "    \n",
    "    theta = params[:4]\n",
    "    epsilon_plus, epsilon_minus, mu_plus, mu_minus = sigmoid(theta) /  jnp.array([2,2,5,5]) + jnp.array([0.,.5, 0., 0.])\n",
    "\n",
    "    ############\n",
    "    X0,u,v,s_plus, s_minus,t, M_plus_list, M_minus_list, rho, N, T = [data[k] for k in [\"X0\",\"u\",\"v\",\"s_plus\", \"s_minus\",\"t\",\n",
    "                                                                            \"M_plus_list\", \"M_minus_list\", \"rho\", \"N\", \"T\"]]\n",
    "    \n",
    "    X_sparse_list = update_X(M_plus_list, M_minus_list, mu_plus, mu_minus, X0, \n",
    "                             X_list = [X0[None,:]], t = 0, T_max = T)\n",
    "    X = jnp.concatenate(X_sparse_list)\n",
    "    ###########\n",
    "    #new\n",
    "    # X0,u,v,s_plus, s_minus,t, edges_iter, rho, N, T = [data[k] for k in [\"X0\",\"u\",\"v\",\n",
    "    #                                                                      \"s_plus\", \"s_minus\",\"t\",\n",
    "    #                                                                      \"edges_iter\", \"rho\", \"N\", \"T\"]]\n",
    "    # X = compute_X_from_X0_params(X0, edges_iter, epsilon_plus, epsilon_minus, mu_plus, mu_minus, rho)\n",
    "    ######\n",
    "    \n",
    "    u,v,t = u.astype(int),v.astype(int),t.astype(int)\n",
    "    diff_X = X[t,u] - X[t,v]\n",
    "\n",
    "    kappas_plus = BC_leaders.kappa_plus_from_epsilon(epsilon_plus, diff_X, rho, with_jax = True)\n",
    "    kappas_minus = BC_leaders.kappa_minus_from_epsilon(epsilon_minus, diff_X, rho, with_jax = True)\n",
    "    kappas_ = jnp.concatenate([kappas_minus, kappas_plus])\n",
    "    s = jnp.concatenate([s_minus, s_plus])\n",
    "\n",
    "    with numpyro.plate(\"data\", s.shape[0]):\n",
    "        numpyro.sample(\"obs\", distributions.Bernoulli(probs = kappas_), obs = s)\n",
    "\n"
   ]
  },
  {
   "cell_type": "code",
   "execution_count": 10,
   "metadata": {},
   "outputs": [],
   "source": [
    "# X0,u,v,s_plus, s_minus,t, edges_iter, rho, N, T = [data[k] for k in [\"X0\",\"u\",\"v\",\n",
    "#                                                                          \"s_plus\", \"s_minus\",\"t\",\n",
    "#                                                                          \"edges\", \"rho\", \"N\", \"T\"]]\n",
    "    "
   ]
  },
  {
   "cell_type": "code",
   "execution_count": 11,
   "metadata": {},
   "outputs": [],
   "source": [
    "# X = compute_X_from_X0_params(X0, edges_iter, epsilon_plus, epsilon_minus, mu_plus, mu_minus, rho)"
   ]
  },
  {
   "cell_type": "code",
   "execution_count": 12,
   "metadata": {},
   "outputs": [],
   "source": [
    "def train_mcmc(X, edges, intermediate_samples = None, rho = 32, num_chains = 1,\n",
    "               warmup_samples = None, n_samples = 400, progress_bar = False, id = None, timeout = 3600):\n",
    "    if intermediate_samples is None:\n",
    "        intermediate_samples = n_samples\n",
    "    if warmup_samples is None:\n",
    "        warmup_samples = intermediate_samples\n",
    "\n",
    "    data = initialize_training(jnp.array(X), jnp.array(edges), rho = rho)\n",
    "    key = random.PRNGKey(0)\n",
    "    mcmc = MCMC(NUTS(model), num_warmup = warmup_samples, num_chains = num_chains, \n",
    "                num_samples = intermediate_samples, progress_bar = progress_bar)\n",
    "    res = []\n",
    "    tot_time = 0\n",
    "    for _ in range(int(n_samples / intermediate_samples)):\n",
    "        t0 = time()\n",
    "        mcmc.run(key, data)\n",
    "        t1 = time()\n",
    "        tot_time += t1 - t0\n",
    "\n",
    "        mcmc.post_warmup_state = mcmc.last_state\n",
    "        key = mcmc.post_warmup_state.rng_key\n",
    "        \n",
    "        mcmc_samples = mcmc.get_samples()\n",
    "        param_mean, param_std = analyse_samples(mcmc_samples[\"theta\"])\n",
    "        res.append({\"param_mean\": param_mean,\n",
    "                    \"param_std\": param_std,\n",
    "                    \"tot_time\": tot_time,\n",
    "                    \"n_simulations\": None,\n",
    "                    \"method\": \"mcmc\",\n",
    "                    \"n_steps\": None,\n",
    "                    \"n_samples\": intermediate_samples * (_ + 1),\n",
    "                    \"id\": id})\n",
    "        if tot_time > timeout:\n",
    "            break\n",
    "\n",
    "    return res\n",
    "\n"
   ]
  },
  {
   "cell_type": "code",
   "execution_count": 13,
   "metadata": {},
   "outputs": [],
   "source": [
    "def train_svi(X, edges, guide_family = \"normal\", rho = 32,\n",
    "              n_steps = 4000, intermediate_steps = None, lr = 0.01, \n",
    "              progress_bar = False, id = None, timeout = 3600):\n",
    "    if intermediate_steps is None:\n",
    "        intermediate_steps = n_steps\n",
    "    \n",
    "    if guide_family == \"normal\":\n",
    "        guide = AutoNormal(model)\n",
    "    if guide_family == \"NF\":\n",
    "        guide = AutoBNAFNormal(model, num_flows = 1, hidden_factors = (8,8))\n",
    "        n_steps = int(n_steps / 2)\n",
    "        intermediate_steps = int(intermediate_steps / 2)\n",
    "    \n",
    "    data = initialize_training(jnp.array(X), jnp.array(edges), rho = rho)\n",
    "    optimizer = Adam(step_size = lr)\n",
    "    svi = SVI(model, guide, optimizer, loss = TraceGraph_ELBO())\n",
    "    res = []\n",
    "    last_state = None\n",
    "\n",
    "    tot_time = 0\n",
    "    \n",
    "    for _ in range(int(n_steps / intermediate_steps)):\n",
    "        t0 = time()\n",
    "        svi_results = svi.run(random.PRNGKey(0), intermediate_steps, data, init_state = last_state, progress_bar = progress_bar)\n",
    "        t1 = time()\n",
    "        tot_time += t1 - t0\n",
    "\n",
    "        theta_samples = guide.sample_posterior(random.PRNGKey(0), svi_results.params, sample_shape = (200,))[\"theta\"]\n",
    "        param_mean, param_std = analyse_samples(theta_samples)\n",
    "        \n",
    "        res_analysis = {\"param_mean\": param_mean,\n",
    "                        \"param_std\": param_std,\n",
    "                        \"tot_time\": tot_time,\n",
    "                        \"n_simulations\": None,\n",
    "                        \"method\": \"svi\" + guide_family,\n",
    "                        \"n_steps\": intermediate_steps * (_ + 1),\n",
    "                        \"n_samples\": None,\n",
    "                        \"id\": id\n",
    "                        }\n",
    "        res.append(res_analysis)\n",
    "\n",
    "        last_state = svi_results.state\n",
    "        if tot_time > timeout:\n",
    "            break\n",
    "\n",
    "    return res\n"
   ]
  },
  {
   "cell_type": "code",
   "execution_count": 14,
   "metadata": {},
   "outputs": [],
   "source": [
    "######## pyabc #############\n",
    "# def create_s_update_X(X_t, edges_iter, edge_per_t, parameters, rho,\n",
    "#                      summary_statistics_list, X_list):\n",
    "#     edges_t = next(edges_iter, None)\n",
    "#     if edges_t is not None:\n",
    "#         epsilon_plus,epsilon_minus, mu_plus, mu_minus = epsilons_from_theta(parameters, dict_theta = True, numpy = True)\n",
    "#         u,v,_,_ = edges_t.T\n",
    "\n",
    "#         diff_X = X_t[u] - X_t[v]\n",
    "#         s_plus = ((np.random.rand(edge_per_t) < np_sigmoid(rho * (epsilon_plus - np.abs(diff_X))))) + 0\n",
    "#         s_minus = ((np.random.rand(edge_per_t) < np_sigmoid(-rho * (epsilon_minus - np.abs(diff_X))))) + 0\n",
    "\n",
    "#         updates_plus = mu_plus * s_plus * diff_X \n",
    "#         updates_minus = mu_minus * s_minus * diff_X \n",
    "#         X_t[v] += updates_plus - updates_minus\n",
    "#         X_t[v] = np.clip(X_t[v], 1e-5, 1 - 1e-5)\n",
    "#         X_list.append(X_t[None,:].copy())\n",
    "#         summary_statistics_list.append(np.concatenate([u[None,:],v[None,:],s_plus[None,:], s_minus[None,:]])[None,:])\n",
    "#         create_s_update_X(X_t, edges_iter, edge_per_t, parameters, rho, summary_statistics_list, X_list)\n",
    "#     edges_sim = np.concatenate(summary_statistics_list).transpose(0,2,1)\n",
    "#     return {\"s_plus_sum\": edges_sim[:,:,-2].sum(axis = 1), \n",
    "#             \"s_minus_sum\": edges_sim[:,:,-1].sum(axis = 1)}\n",
    "\n",
    "def create_summary_statistics(X0, edges_iter, edge_per_t, parameters, rho):\n",
    "    summary_statistics_list = []\n",
    "    Xt = X0.copy()\n",
    "    N = len(Xt)\n",
    "    \n",
    "    while True:\n",
    "        edges_t = next(edges_iter, None)\n",
    "        if edges_t is None:\n",
    "            break\n",
    "        epsilon_plus,epsilon_minus, mu_plus, mu_minus = epsilons_from_theta(parameters, dict_theta = True, numpy = True)\n",
    "        u,v,_,_ = edges_t.T\n",
    "        u,v = u.astype(int),v.astype(int)\n",
    "        diff_X = Xt[u] - Xt[v]\n",
    "        # s_plus = ((np.random.rand(edge_per_t) < np_sigmoid(rho * (epsilon_plus - np.abs(diff_X))))) + 0\n",
    "        # s_minus = ((np.random.rand(edge_per_t) < np_sigmoid(-rho * (epsilon_minus - np.abs(diff_X))))) + 0\n",
    "        s_plus =  (np.abs(diff_X) > epsilon_plus) + 0\n",
    "        s_minus = (np.abs(diff_X) < epsilon_minus) + 0\n",
    "\n",
    "        updates_plus = mu_plus * s_plus * diff_X \n",
    "        updates_minus = mu_minus * s_minus * diff_X \n",
    "        Xt[v] += updates_plus - updates_minus\n",
    "        Xt[v] = np.clip(Xt[v], 1e-5, 1 - 1e-5)\n",
    "            \n",
    "        summary_statistics_list.append(np.concatenate([u[None,:],v[None,:],s_plus[None,:], s_minus[None,:]])[None,:])\n",
    "\n",
    "    edges_sim = np.concatenate(summary_statistics_list).transpose(0,2,1)\n",
    "    return {\"s_plus_sum\": edges_sim[:,:,-2].sum(axis = 1), \n",
    "            \"s_minus_sum\": edges_sim[:,:,-1].sum(axis = 1)}\n",
    "\n",
    "    \n",
    "\n",
    "def create_trajectory(X0, edges, parameters, rho):\n",
    "    X0 = X0.copy()\n",
    "    edges_iter = (edges_t for edges_t in edges)\n",
    "    T, edge_per_t, _ = edges.shape\n",
    "    summary_statistics = create_summary_statistics(X0, edges_iter, edge_per_t, parameters, rho)\n",
    "    # summary_statistics = create_s_update_X(X0, edges_iter, edge_per_t, parameters, rho, [], [X0[None,:].copy()])\n",
    "    return summary_statistics\n",
    "\n",
    "def sim_trajectory_X0_edges(X0, edges, rho):\n",
    "    return lambda parameters: create_trajectory(X0, edges, parameters, rho)\n",
    "\n",
    "\n",
    "\n",
    "def train_abc(X, edges, populations_budget = 10, intermediate_populations = None,\n",
    "              population_size = 200, rho = 32, id = None, timeout = 3600):\n",
    "    if intermediate_populations is None:\n",
    "        intermediate_populations = populations_budget\n",
    "    \n",
    "    T = len(X)\n",
    "    res = []\n",
    "    tot_time = 0\n",
    "    model_abc = sim_trajectory_X0_edges(X[0], edges, rho)\n",
    "    prior = pyabc.Distribution(\n",
    "                theta0=pyabc.RV(\"norm\", 0, 1),\n",
    "                theta1=pyabc.RV(\"norm\", 0, 1),\n",
    "                theta2=pyabc.RV(\"norm\", 0, 1),\n",
    "                theta3=pyabc.RV(\"norm\", 0, 1))\n",
    "    distance = pyabc.PNormDistance(2)\n",
    "    obs = {\"s_plus_sum\": edges[:,:,-2].sum(axis = 1), \n",
    "           \"s_minus_sum\": edges[:,:,-1].sum(axis = 1)}\n",
    "    abc = pyabc.ABCSMC(model_abc, prior, distance, population_size = population_size)#, sampler = SingleCoreSampler())\n",
    "    db = \"sqlite:///\" + os.path.join(gettempdir(), f\"{id}_update_test.db\")\n",
    "    history = abc.new(db, obs)\n",
    "    run_id = history.id\n",
    "    for _ in range(int(populations_budget / intermediate_populations)):\n",
    "        abc_continued = pyabc.ABCSMC(model_abc, prior, distance, population_size = population_size)#, sampler = SingleCoreSampler())\n",
    "        abc_continued.load(db, run_id)\n",
    "        t0 = time()\n",
    "        history = abc_continued.run(max_nr_populations = intermediate_populations,\n",
    "                                    minimum_epsilon = 5 * (T ** (1/2)),\n",
    "                                    max_walltime = timedelta(hours = 3))\n",
    "        t1 = time()\n",
    "        tot_time += (t1 - t0)\n",
    "        theta_samples = jnp.array(history.get_distribution()[0])\n",
    "\n",
    "        param_mean, param_std = analyse_samples(theta_samples)\n",
    "        res_analysis = {\"param_mean\": param_mean,\n",
    "                        \"param_std\": param_std,\n",
    "                        \"tot_time\": tot_time,\n",
    "                        \"n_simulations\": history.total_nr_simulations,\n",
    "                        \"method\": \"abc\",\n",
    "                        \"n_steps\": None,\n",
    "                        \"n_samples\": None,\n",
    "                        \"id\": id\n",
    "                        }\n",
    "        res.append(res_analysis)\n",
    "        if tot_time > timeout:\n",
    "            break\n",
    "    return res\n",
    "\n",
    "\n",
    "\n"
   ]
  },
  {
   "cell_type": "code",
   "execution_count": 15,
   "metadata": {},
   "outputs": [],
   "source": [
    "def count_interactions(X, edges):\n",
    "    T, N = X.shape\n",
    "    _,edge_per_t,_ = edges.shape\n",
    "    \n",
    "    pos_interactions_plus, pos_interactions_minus = edges[:,:,2].sum(), edges[:,:,3].sum()\n",
    "    tot_interactions = (T - 1) * edge_per_t\n",
    "    \n",
    "\n",
    "    return {\"pos_interactions_plus\":pos_interactions_plus, \n",
    "            \"pos_interactions_minus\":pos_interactions_minus, \n",
    "            \"tot_interactions\":tot_interactions,\n",
    "            \"T\": T, \"N\": N, \"edge_per_t\": edge_per_t,\n",
    "            \"var_X_end\": X[-1].var(),\n",
    "            \"skew_X_end\": skew(X[-1]),\n",
    "            \"kurtosis_X_end\": kurtosis(X[-1]),\n",
    "            \"bimodality_X_end\": dipstat(X[-1]),\n",
    "            }\n",
    "\n",
    "########## all ##############\n",
    "def epsilons_from_theta(parameters, dict_theta = False, numpy = False):\n",
    "    \n",
    "    sigmoid_fn = np_sigmoid if numpy else sigmoid\n",
    "    if dict_theta:\n",
    "        epsilon_plus = sigmoid_fn(parameters[\"theta0\"]) / 2\n",
    "        epsilon_minus = sigmoid_fn(parameters[\"theta1\"]) / 2 + .5\n",
    "        mu_plus = sigmoid_fn(parameters[\"theta2\"]) / 10\n",
    "        mu_minus = sigmoid_fn(parameters[\"theta3\"]) / 10\n",
    "        return epsilon_plus,epsilon_minus, mu_plus, mu_minus\n",
    "    elif len(parameters.shape) == 1:\n",
    "        epsilon_plus,epsilon_minus, mu_plus, mu_minus = sigmoid(parameters) / jnp.array([2,2,10,10]) + jnp.array([0.,.5,0.,0.])\n",
    "        return epsilon_plus,epsilon_minus, mu_plus, mu_minus\n",
    "    else:\n",
    "        trans_theta = (sigmoid(parameters) / jnp.array([2,2,10,10]) + jnp.array([0.,.5,0.,0.])).T\n",
    "        return trans_theta\n",
    "\n",
    "def analyse_samples(samples):\n",
    "        param_samples = epsilons_from_theta(samples, dict_theta = False, numpy = False).T\n",
    "        param_mean, param_std = param_samples.mean(axis = 0), param_samples.std(axis = 0)\n",
    "        \n",
    "        return param_mean, param_std\n",
    "\n",
    "def analyse_results(epsilon_plus, epsilon_minus, mu_plus, mu_minus, \n",
    "                    param_mean, param_std, n_samples, n_steps, n_simulations, id,\n",
    "                    tot_time, method):\n",
    "    params = np.array([epsilon_plus, epsilon_minus, mu_plus, mu_minus])\n",
    "\n",
    "    param_names = [\"epsilon_plus\", \"epsilon_minus\", \"mu_plus\", \"mu_minus\"]\n",
    "    out = {\n",
    "            \"id\": id,\n",
    "            \"mse_params\": ((params - param_mean)**2).mean().item(), \n",
    "            \"mse_epsilon\": ((params[:2] - param_mean[:2])**2).mean().item(), \n",
    "            \"mse_mu\": ((params[2:] - param_mean[2:])**2).mean().item(), \n",
    "            \"tot_time\": tot_time,\n",
    "            \"n_steps\": n_steps, \n",
    "            \"n_samples\": n_samples,\n",
    "            \"method\": method,\n",
    "            \"n_simulations\": n_simulations\n",
    "            }\n",
    "\n",
    "    out.update({u + \"_error\": np.abs(params[k] - param_mean[k]) for k, u in enumerate(param_names)})\n",
    "    out.update({u + \"_mean\": param_mean[k].item() for k, u in enumerate(param_names)})\n",
    "    out.update({u + \"_std\": param_std[k].item() for k, u in enumerate(param_names)})\n",
    "    out.update({u + \"_real\": params[k].item() for k, u in enumerate(param_names)})\n",
    "\n",
    "    return out\n",
    "        \n",
    "\n",
    "def save_pickle(out, path):\n",
    "    if path is not None:\n",
    "        with open(path, \"wb\") as f:\n",
    "            pickle.dump(out, f)\n",
    "\n",
    "\n"
   ]
  },
  {
   "cell_type": "code",
   "execution_count": 16,
   "metadata": {},
   "outputs": [],
   "source": [
    "def complete_experiment(N, T, edge_per_t, rho = 32,\n",
    "                        method = \"svinormal\",\n",
    "                        epsilon_plus = None, epsilon_minus = None, mu_plus = None, mu_minus = None,\n",
    "                        n_steps = 1000, n_samples = 100, populations_budget = 10, num_chains = 1,\n",
    "                        intermediate_steps = None, intermediate_samples = None, warmup_samples = None, \n",
    "                        intermediate_populations = None, population_size = 200, \n",
    "                        lr = 0.01, progress_bar = False, timeout = 25000, id = None, date = None, save_data = True\n",
    "                        ):\n",
    "    if len(glob(f\"../data/update_{date}/X_{id}*\")) > 0:\n",
    "        X_file = glob(f\"../data/update_{date}/X_{id}*\")[0]\n",
    "        edges_file = glob(f\"../data/update_{date}/edges_{id}*\")[0]\n",
    "        X = np.load(X_file)\n",
    "        edges = np.load(edges_file)\n",
    "        \n",
    "        _,_,epsilon_plus,epsilon_minus, mu_plus, mu_minus = [int(u) for u in X_file.split(\"/\")[-1].split(\"_\")[2:-1]]\n",
    "        epsilon_plus, epsilon_minus, mu_plus, mu_minus = np.array([epsilon_plus, epsilon_minus, mu_plus, mu_minus]) / 100\n",
    "    else:\n",
    "        if epsilon_plus is None:\n",
    "            epsilon_plus = np.random.randint(5) * 0.1 + 0.05\n",
    "            epsilon_minus = np.random.randint(5) * 0.1 + 0.55\n",
    "            mu_plus = np.random.randint(5) * 0.02 + 0.01\n",
    "            mu_minus = np.random.randint(5) * 0.02 + 0.01\n",
    "\n",
    "        X, edges = BC_update.simulate_trajectory(N = N, T = T, edge_per_t = edge_per_t, \n",
    "                                                  epsilon_plus = epsilon_plus, epsilon_minus = epsilon_minus, \n",
    "                                                  mu_plus = mu_plus, mu_minus = mu_minus, rho = rho)  \n",
    "\n",
    "\n",
    "        if save_data:\n",
    "            np.save(f\"../data/update_{date}/X_{id}_{int(epsilon_plus * 100)}_{int(epsilon_minus * 100)}_{int(mu_plus * 100)}_{int(mu_minus * 100)}_.npy\", X)\n",
    "            np.save(f\"../data/update_{date}/edges_{id}_{int(epsilon_plus * 100)}_{int(epsilon_minus * 100)}_{int(mu_plus * 100)}_{int(mu_minus * 100)}_.npy\", edges)\n",
    "        \n",
    "\n",
    "    analysis_data = count_interactions(X, edges)\n",
    "    \n",
    "    \n",
    "    out = []\n",
    "    if method == \"svinormal\":\n",
    "        res_svinormal = train_svi(X, edges, guide_family = \"normal\", rho = rho,\n",
    "             n_steps = n_steps, intermediate_steps = intermediate_steps, lr = lr, \n",
    "             progress_bar = progress_bar, id = id, timeout = timeout)\n",
    "        out += res_svinormal\n",
    "    if method == \"sviNF\":\n",
    "        res_svinf = train_svi(X, edges, guide_family = \"NF\", rho = rho,\n",
    "             n_steps = n_steps, intermediate_steps = intermediate_steps, lr = lr, \n",
    "             progress_bar = progress_bar, id = id, timeout = timeout)\n",
    "        out += res_svinf\n",
    "    if method == \"mcmc\":\n",
    "        res_mcmc = train_mcmc(X, edges, intermediate_samples = intermediate_samples, warmup_samples = warmup_samples,  rho = rho,\n",
    "                              n_samples = n_samples, num_chains = num_chains, progress_bar = progress_bar, id = id, timeout = timeout)\n",
    "        out += res_mcmc\n",
    "    if method == \"abc\":\n",
    "        res_abc = train_abc(X, edges, populations_budget = populations_budget, intermediate_populations = intermediate_populations,\n",
    "                            population_size = population_size, rho = rho, id = id, timeout = timeout)\n",
    "        out += res_abc\n",
    "    complete_analysis = [analyse_results(epsilon_plus, epsilon_minus, mu_plus, mu_minus, **res)|analysis_data for res in out]\n",
    "    return complete_analysis\n",
    "    # return out, analysis_data\n",
    "\n",
    "\n"
   ]
  },
  {
   "cell_type": "code",
   "execution_count": 30,
   "metadata": {},
   "outputs": [],
   "source": [
    "N = 24\n",
    "T = 32\n",
    "edge_per_t = 10\n",
    "epsilon_plus = 0.17\n",
    "epsilon_minus = 0.8\n",
    "mu_plus = 0.15\n",
    "mu_minus = 0.15\n",
    "rho = 32"
   ]
  },
  {
   "cell_type": "code",
   "execution_count": 36,
   "metadata": {},
   "outputs": [
    {
     "data": {
      "text/plain": [
       "<module 'BC_update' from '/home/jacopo.lenti/LOTM/notebooks/../src/BC_update.py'>"
      ]
     },
     "execution_count": 36,
     "metadata": {},
     "output_type": "execute_result"
    }
   ],
   "source": [
    "reload(BC_update)"
   ]
  },
  {
   "cell_type": "code",
   "execution_count": 49,
   "metadata": {},
   "outputs": [
    {
     "name": "stdout",
     "output_type": "stream",
     "text": [
      "0.9409368925293213\n",
      "0.9409368925293213\n",
      "0.9409368925293213\n",
      "0.9409368925293213\n",
      "0.9409368925293213\n",
      "0.9409368925293213\n",
      "0.9409368925293213\n",
      "0.9409368925293213\n",
      "0.9409368925293213\n",
      "0.9409368925293213\n",
      "0.9409368925293213\n",
      "0.9409368925293213\n",
      "0.9409368925293213\n",
      "0.9409368925293213\n",
      "0.9409368925293213\n",
      "0.9409368925293213\n",
      "0.9409368925293213\n",
      "0.9409368925293213\n",
      "0.9409368925293213\n",
      "0.9409368925293213\n",
      "0.9409368925293213\n",
      "0.9409368925293213\n",
      "0.9409368925293213\n",
      "0.9409368925293213\n",
      "0.9409368925293213\n",
      "0.9409368925293213\n",
      "0.9409368925293213\n",
      "0.9409368925293213\n",
      "0.9409368925293213\n",
      "0.9409368925293213\n",
      "0.9409368925293213\n",
      "0.9409368925293213\n",
      "0.9409368925293213\n",
      "0.9409368925293213\n",
      "0.9409368925293213\n",
      "0.9409368925293213\n",
      "0.9409368925293213\n",
      "0.9409368925293213\n",
      "0.9409368925293213\n",
      "0.9409368925293213\n",
      "0.9409368925293213\n",
      "0.9409368925293213\n",
      "0.9409368925293213\n",
      "0.9409368925293213\n",
      "0.9409368925293213\n",
      "0.9409368925293213\n",
      "0.9409368925293213\n",
      "0.9409368925293213\n",
      "0.9409368925293213\n",
      "0.9409368925293213\n",
      "0.9409368925293213\n",
      "0.9409368925293213\n",
      "0.9409368925293213\n",
      "0.9409368925293213\n",
      "0.9409368925293213\n",
      "0.9409368925293213\n",
      "0.9409368925293213\n",
      "0.9409368925293213\n",
      "0.9409368925293213\n",
      "0.9409368925293213\n",
      "0.9409368925293213\n",
      "0.9409368925293213\n",
      "0.9409368925293213\n",
      "0.9409368925293213\n",
      "0.9409368925293213\n",
      "0.9409368925293213\n",
      "0.9409368925293213\n",
      "0.9409368925293213\n",
      "0.9409368925293213\n",
      "0.9409368925293213\n",
      "0.9409368925293213\n",
      "0.9409368925293213\n",
      "0.9409368925293213\n",
      "0.9409368925293213\n",
      "0.9409368925293213\n",
      "0.9409368925293213\n",
      "0.9409368925293213\n",
      "0.9409368925293213\n",
      "0.9409368925293213\n",
      "0.9409368925293213\n",
      "0.9409368925293213\n",
      "0.9409368925293213\n",
      "0.9409368925293213\n",
      "0.9409368925293213\n",
      "0.9409368925293213\n",
      "0.9409368925293213\n",
      "0.9409368925293213\n",
      "0.9409368925293213\n",
      "0.9409368925293213\n",
      "0.9409368925293213\n",
      "0.9409368925293213\n",
      "0.9409368925293213\n",
      "0.9409368925293213\n",
      "0.9409368925293213\n"
     ]
    }
   ],
   "source": [
    "X, edges = BC_update.simulate_trajectory(N = N, T = T, edge_per_t = edge_per_t,\n",
    "                                         epsilon_plus = epsilon_plus, epsilon_minus = epsilon_minus,\n",
    "                                         mu_plus = mu_plus, mu_minus = mu_minus, rho = rho, seed =911)\n"
   ]
  },
  {
   "cell_type": "code",
   "execution_count": 28,
   "metadata": {},
   "outputs": [
    {
     "data": {
      "text/plain": [
       "array([0.11098208, 0.52828345, 0.10517383, 0.02962699, 0.38361536,\n",
       "       0.73330346, 0.13004042, 0.4240138 , 0.34424028, 0.39876471,\n",
       "       0.11152916, 0.58617412, 1.07835229, 0.24702135, 0.59681741,\n",
       "       0.4881513 , 0.06225402, 0.96183807, 0.09958023, 0.44305149,\n",
       "       0.75498761, 0.2984281 , 0.42051576, 0.84029309])"
      ]
     },
     "execution_count": 28,
     "metadata": {},
     "output_type": "execute_result"
    }
   ],
   "source": [
    "X[0]"
   ]
  },
  {
   "cell_type": "code",
   "execution_count": 66,
   "metadata": {},
   "outputs": [
    {
     "name": "stderr",
     "output_type": "stream",
     "text": [
      "100%|██████████| 5000/5000 [00:15<00:00, 326.16it/s, init loss: 227.9784, avg. loss [4751-5000]: 39.5637] \n"
     ]
    }
   ],
   "source": [
    "res_svinf = train_svi(X, edges, guide_family = \"NF\", rho = 32,\n",
    "             n_steps = 10000, intermediate_steps = None, lr = 0.01,\n",
    "             progress_bar = True)"
   ]
  },
  {
   "cell_type": "code",
   "execution_count": 67,
   "metadata": {},
   "outputs": [
    {
     "data": {
      "text/plain": [
       "[{'param_mean': Array([0.16395636, 0.79016834, 0.07727702, 0.05701572], dtype=float32),\n",
       "  'param_std': Array([0.00728072, 0.0178784 , 0.0102335 , 0.01618248], dtype=float32),\n",
       "  'tot_time': 20.540714025497437,\n",
       "  'n_simulations': None,\n",
       "  'method': 'sviNF',\n",
       "  'n_steps': 5000,\n",
       "  'n_samples': None,\n",
       "  'id': None}]"
      ]
     },
     "execution_count": 67,
     "metadata": {},
     "output_type": "execute_result"
    }
   ],
   "source": [
    "res_svinf"
   ]
  },
  {
   "cell_type": "code",
   "execution_count": 69,
   "metadata": {},
   "outputs": [
    {
     "name": "stdout",
     "output_type": "stream",
     "text": [
      "10\n"
     ]
    },
    {
     "name": "stderr",
     "output_type": "stream",
     "text": [
      "100%|██████████| 5000/5000 [00:04<00:00, 1116.67it/s, init loss: 65.9158, avg. loss [4751-5000]: 8.5953]\n"
     ]
    },
    {
     "name": "stdout",
     "output_type": "stream",
     "text": [
      "15\n"
     ]
    },
    {
     "name": "stderr",
     "output_type": "stream",
     "text": [
      "100%|██████████| 5000/5000 [00:06<00:00, 750.40it/s, init loss: 100.0989, avg. loss [4751-5000]: 18.8588] \n"
     ]
    },
    {
     "name": "stdout",
     "output_type": "stream",
     "text": [
      "20\n"
     ]
    },
    {
     "name": "stderr",
     "output_type": "stream",
     "text": [
      "100%|██████████| 5000/5000 [00:11<00:00, 452.76it/s, init loss: 140.5759, avg. loss [4751-5000]: 21.1834] \n"
     ]
    },
    {
     "name": "stdout",
     "output_type": "stream",
     "text": [
      "25\n"
     ]
    },
    {
     "name": "stderr",
     "output_type": "stream",
     "text": [
      "100%|██████████| 5000/5000 [00:14<00:00, 352.49it/s, init loss: 173.0278, avg. loss [4751-5000]: 28.1553] \n"
     ]
    },
    {
     "name": "stdout",
     "output_type": "stream",
     "text": [
      "30\n"
     ]
    },
    {
     "name": "stderr",
     "output_type": "stream",
     "text": [
      "100%|██████████| 5000/5000 [00:16<00:00, 300.98it/s, init loss: 191.2382, avg. loss [4751-5000]: 35.6772]\n"
     ]
    },
    {
     "name": "stdout",
     "output_type": "stream",
     "text": [
      "35\n"
     ]
    },
    {
     "name": "stderr",
     "output_type": "stream",
     "text": [
      "100%|██████████| 5000/5000 [00:21<00:00, 227.52it/s, init loss: 147.4474, avg. loss [4751-5000]: 36.8972]\n"
     ]
    },
    {
     "name": "stdout",
     "output_type": "stream",
     "text": [
      "40\n"
     ]
    },
    {
     "name": "stderr",
     "output_type": "stream",
     "text": [
      "100%|██████████| 5000/5000 [00:25<00:00, 195.96it/s, init loss: 253.1107, avg. loss [4751-5000]: 38.9031]\n"
     ]
    },
    {
     "name": "stdout",
     "output_type": "stream",
     "text": [
      "45\n"
     ]
    },
    {
     "name": "stderr",
     "output_type": "stream",
     "text": [
      "100%|██████████| 5000/5000 [00:32<00:00, 153.56it/s, init loss: 186.9944, avg. loss [4751-5000]: 48.4145]\n"
     ]
    },
    {
     "name": "stdout",
     "output_type": "stream",
     "text": [
      "50\n"
     ]
    },
    {
     "name": "stderr",
     "output_type": "stream",
     "text": [
      "100%|██████████| 5000/5000 [00:39<00:00, 127.87it/s, init loss: 414.3330, avg. loss [4751-5000]: 61.7823]\n"
     ]
    },
    {
     "name": "stdout",
     "output_type": "stream",
     "text": [
      "55\n"
     ]
    },
    {
     "name": "stderr",
     "output_type": "stream",
     "text": [
      "100%|██████████| 5000/5000 [00:48<00:00, 103.34it/s, init loss: 355.9933, avg. loss [4751-5000]: 47.9289]\n"
     ]
    },
    {
     "name": "stdout",
     "output_type": "stream",
     "text": [
      "60\n"
     ]
    },
    {
     "name": "stderr",
     "output_type": "stream",
     "text": [
      "100%|██████████| 5000/5000 [01:02<00:00, 79.59it/s, init loss: 315.6882, avg. loss [4751-5000]: 32.2406] \n"
     ]
    }
   ],
   "source": [
    "N = 20\n",
    "tot_times = []\n",
    "for T in [10, 15, 20, 25, 30, 35, 40, 45, 50, 55, 60]:\n",
    "    print(T)\n",
    "    X, edges = BC_update.simulate_trajectory(N = N, T = T, edge_per_t = edge_per_t,\n",
    "                                         epsilon_plus = epsilon_plus, epsilon_minus = epsilon_minus,\n",
    "                                         mu_plus = mu_plus, mu_minus = mu_minus, rho = rho)\n",
    "    res_svinf = train_svi(X, edges, guide_family = \"NF\", rho = 32,\n",
    "             n_steps = 10000, intermediate_steps = None, lr = 0.01,\n",
    "             progress_bar = True)\n",
    "    tot_times.append((T, res_svinf[0][\"tot_time\"]))\n",
    "    \n"
   ]
  },
  {
   "cell_type": "code",
   "execution_count": 89,
   "metadata": {},
   "outputs": [
    {
     "data": {
      "text/plain": [
       "array([ 11.39561243,  11.94773404,  12.71828183,  13.79366789,\n",
       "        15.29449005,  17.3890561 ,  20.3122585 ,  24.3919161 ,\n",
       "        30.08553692,  38.03162489,  49.121284  ,  64.59815003,\n",
       "        86.19785657, 116.3426754 ])"
      ]
     },
     "execution_count": 89,
     "metadata": {},
     "output_type": "execute_result"
    }
   ],
   "source": [
    "s = np.array([10, 20, 30, 40, 50, 60, 70, 80, 90, 100, 110, 120, 130, 140])\n",
    "np.exp(s / 30) + 10"
   ]
  },
  {
   "cell_type": "code",
   "execution_count": 109,
   "metadata": {},
   "outputs": [
    {
     "data": {
      "text/plain": [
       "[<matplotlib.lines.Line2D at 0x7f5925fead60>]"
      ]
     },
     "execution_count": 109,
     "metadata": {},
     "output_type": "execute_result"
    },
    {
     "data": {
      "image/png": "[encoded data removed]",
      "text/plain": [
       "<Figure size 640x480 with 1 Axes>"
      ]
     },
     "metadata": {},
     "output_type": "display_data"
    }
   ],
   "source": [
    "plt.plot(np.array(tot_times)[:,0], np.array(tot_times)[:,1])\n",
    "plt.plot(s, np.exp((s + 18) / 20) + 8)"
   ]
  },
  {
   "cell_type": "code",
   "execution_count": 43,
   "metadata": {},
   "outputs": [
    {
     "data": {
      "image/png": "[encoded data removed]",
      "text/plain": [
       "<Figure size 1000x500 with 2 Axes>"
      ]
     },
     "metadata": {},
     "output_type": "display_data"
    }
   ],
   "source": [
    "fig, axes = plt.subplots(ncols = 2, figsize = (10, 5))\n",
    "X0 =jnp.array(X[0])\n",
    "edges_iter = (edge_t for edge_t in edges)\n",
    "\n",
    "X1 = compute_X_from_X0_params(X0, edges_iter, res_svinf[0][\"param_mean\"][0],res_svinf[0][\"param_mean\"][1],\n",
    "                              # mu_plus, mu_minus,\n",
    "                              res_svinf[0][\"param_mean\"][2], res_svinf[0][\"param_mean\"][3], \n",
    "                            # 0.01,0.2,\n",
    "                              rho)\n",
    "axes[0].plot(X)\n",
    "axes[1].plot(X1)\n",
    "\n",
    "fig.show()"
   ]
  },
  {
   "cell_type": "code",
   "execution_count": 56,
   "metadata": {},
   "outputs": [],
   "source": [
    "import pandas as pd"
   ]
  },
  {
   "cell_type": "code",
   "execution_count": 69,
   "metadata": {},
   "outputs": [
    {
     "data": {
      "text/html": [
       "<div>\n",
       "<style scoped>\n",
       "    .dataframe tbody tr th:only-of-type {\n",
       "        vertical-align: middle;\n",
       "    }\n",
       "\n",
       "    .dataframe tbody tr th {\n",
       "        vertical-align: top;\n",
       "    }\n",
       "\n",
       "    .dataframe thead th {\n",
       "        text-align: right;\n",
       "    }\n",
       "</style>\n",
       "<table border=\"1\" class=\"dataframe\">\n",
       "  <thead>\n",
       "    <tr style=\"text-align: right;\">\n",
       "      <th></th>\n",
       "      <th>epsilon_plus_error</th>\n",
       "      <th>epsilon_minus_error</th>\n",
       "      <th>mu_plus_error</th>\n",
       "      <th>mu_minus_error</th>\n",
       "      <th>tot_time</th>\n",
       "      <th>hidden_factors</th>\n",
       "      <th>flows</th>\n",
       "      <th>loss</th>\n",
       "    </tr>\n",
       "  </thead>\n",
       "  <tbody>\n",
       "    <tr>\n",
       "      <th>0</th>\n",
       "      <td>0.009659</td>\n",
       "      <td>0.069949</td>\n",
       "      <td>0.034028</td>\n",
       "      <td>0.016305</td>\n",
       "      <td>98.415250</td>\n",
       "      <td>16</td>\n",
       "      <td>1</td>\n",
       "      <td>TraceGraph_ELBO</td>\n",
       "    </tr>\n",
       "    <tr>\n",
       "      <th>1</th>\n",
       "      <td>0.011245</td>\n",
       "      <td>0.045665</td>\n",
       "      <td>0.025068</td>\n",
       "      <td>0.022351</td>\n",
       "      <td>90.856867</td>\n",
       "      <td>16</td>\n",
       "      <td>1</td>\n",
       "      <td>TraceGraph_ELBO</td>\n",
       "    </tr>\n",
       "    <tr>\n",
       "      <th>2</th>\n",
       "      <td>0.011245</td>\n",
       "      <td>0.045665</td>\n",
       "      <td>0.025068</td>\n",
       "      <td>0.022351</td>\n",
       "      <td>90.856867</td>\n",
       "      <td>16</td>\n",
       "      <td>1</td>\n",
       "      <td>TraceGraph_ELBO</td>\n",
       "    </tr>\n",
       "    <tr>\n",
       "      <th>3</th>\n",
       "      <td>0.011434</td>\n",
       "      <td>0.045747</td>\n",
       "      <td>0.025504</td>\n",
       "      <td>0.022913</td>\n",
       "      <td>71.087530</td>\n",
       "      <td>16</td>\n",
       "      <td>1</td>\n",
       "      <td>TraceGraph_ELBO</td>\n",
       "    </tr>\n",
       "    <tr>\n",
       "      <th>4</th>\n",
       "      <td>0.011434</td>\n",
       "      <td>0.045747</td>\n",
       "      <td>0.025504</td>\n",
       "      <td>0.022913</td>\n",
       "      <td>71.087530</td>\n",
       "      <td>16</td>\n",
       "      <td>1</td>\n",
       "      <td>TraceGraph_ELBO</td>\n",
       "    </tr>\n",
       "    <tr>\n",
       "      <th>5</th>\n",
       "      <td>0.011434</td>\n",
       "      <td>0.045747</td>\n",
       "      <td>0.025504</td>\n",
       "      <td>0.022913</td>\n",
       "      <td>71.087530</td>\n",
       "      <td>16</td>\n",
       "      <td>1</td>\n",
       "      <td>TraceGraph_ELBO</td>\n",
       "    </tr>\n",
       "    <tr>\n",
       "      <th>6</th>\n",
       "      <td>0.011434</td>\n",
       "      <td>0.045747</td>\n",
       "      <td>0.025504</td>\n",
       "      <td>0.022913</td>\n",
       "      <td>71.087530</td>\n",
       "      <td>16</td>\n",
       "      <td>1</td>\n",
       "      <td>TraceGraph_ELBO</td>\n",
       "    </tr>\n",
       "    <tr>\n",
       "      <th>7</th>\n",
       "      <td>0.011434</td>\n",
       "      <td>0.045747</td>\n",
       "      <td>0.025504</td>\n",
       "      <td>0.022913</td>\n",
       "      <td>93.569907</td>\n",
       "      <td>16</td>\n",
       "      <td>1</td>\n",
       "      <td>TraceGraph_ELBO</td>\n",
       "    </tr>\n",
       "    <tr>\n",
       "      <th>8</th>\n",
       "      <td>0.008386</td>\n",
       "      <td>0.000122</td>\n",
       "      <td>0.021417</td>\n",
       "      <td>0.023163</td>\n",
       "      <td>129.072983</td>\n",
       "      <td>16</td>\n",
       "      <td>1</td>\n",
       "      <td>TraceGraph_ELBO</td>\n",
       "    </tr>\n",
       "  </tbody>\n",
       "</table>\n",
       "</div>"
      ],
      "text/plain": [
       "   epsilon_plus_error  epsilon_minus_error  mu_plus_error  mu_minus_error  \\\n",
       "0            0.009659             0.069949       0.034028        0.016305   \n",
       "1            0.011245             0.045665       0.025068        0.022351   \n",
       "2            0.011245             0.045665       0.025068        0.022351   \n",
       "3            0.011434             0.045747       0.025504        0.022913   \n",
       "4            0.011434             0.045747       0.025504        0.022913   \n",
       "5            0.011434             0.045747       0.025504        0.022913   \n",
       "6            0.011434             0.045747       0.025504        0.022913   \n",
       "7            0.011434             0.045747       0.025504        0.022913   \n",
       "8            0.008386             0.000122       0.021417        0.023163   \n",
       "\n",
       "     tot_time  hidden_factors  flows             loss  \n",
       "0   98.415250              16      1  TraceGraph_ELBO  \n",
       "1   90.856867              16      1  TraceGraph_ELBO  \n",
       "2   90.856867              16      1  TraceGraph_ELBO  \n",
       "3   71.087530              16      1  TraceGraph_ELBO  \n",
       "4   71.087530              16      1  TraceGraph_ELBO  \n",
       "5   71.087530              16      1  TraceGraph_ELBO  \n",
       "6   71.087530              16      1  TraceGraph_ELBO  \n",
       "7   93.569907              16      1  TraceGraph_ELBO  \n",
       "8  129.072983              16      1  TraceGraph_ELBO  "
      ]
     },
     "execution_count": 69,
     "metadata": {},
     "output_type": "execute_result"
    }
   ],
   "source": [
    "#exps =[]\n",
    "exps += [[[analyse_results(epsilon_plus, epsilon_minus, mu_plus, mu_minus, **res) for res in res_svinf][0][u] for u in [\"epsilon_plus_error\", \"epsilon_minus_error\", \"mu_plus_error\", \"mu_minus_error\", \"tot_time\"]] + [16, 1, \"TraceGraph_ELBO\"]]\n",
    "pd.DataFrame(exps, columns = [\"epsilon_plus_error\", \"epsilon_minus_error\", \"mu_plus_error\", \"mu_minus_error\", \"tot_time\", \"hidden_factors\", \"flows\", \"loss\"])"
   ]
  },
  {
   "cell_type": "code",
   "execution_count": 31,
   "metadata": {},
   "outputs": [
    {
     "name": "stderr",
     "output_type": "stream",
     "text": [
      "100%|██████████| 500/500 [01:48<00:00,  4.60it/s, init loss: 85.7430, avg. loss [476-500]: 13.4207]\n"
     ]
    }
   ],
   "source": [
    "exp = complete_experiment(N = 100, T = 20, edge_per_t = 5, rho = 32,\n",
    "                    method = \"sviNF\",\n",
    "                    epsilon_plus = None, epsilon_minus = None, mu_plus = None, mu_minus = None,\n",
    "                    n_steps = 1000, n_samples = 100, populations_budget = 10, num_chains = 1,\n",
    "                    intermediate_steps = None, intermediate_samples = None, warmup_samples = None, \n",
    "                    intermediate_populations = None, population_size = 200, progress_bar = True,\n",
    "                    lr = 0.01, timeout = 25000, id = None, date = None, save_data = False\n",
    "                        )"
   ]
  },
  {
   "cell_type": "code",
   "execution_count": 32,
   "metadata": {},
   "outputs": [
    {
     "data": {
      "text/plain": [
       "[{'id': None,\n",
       "  'mse_params': 0.00040177247137762606,\n",
       "  'mse_epsilon': 0.0002082852879539132,\n",
       "  'mse_mu': 0.000595259596593678,\n",
       "  'tot_time': 112.77577471733093,\n",
       "  'n_steps': 500,\n",
       "  'n_samples': None,\n",
       "  'method': 'sviNF',\n",
       "  'n_simulations': None,\n",
       "  'epsilon_plus_error': 0.0010448545,\n",
       "  'epsilon_minus_error': 0.020383298,\n",
       "  'mu_plus_error': 0.034335658,\n",
       "  'mu_minus_error': 0.0034032129,\n",
       "  'epsilon_plus_mean': 0.2489551454782486,\n",
       "  'epsilon_minus_mean': 0.7296167016029358,\n",
       "  'mu_plus_mean': 0.05566434562206268,\n",
       "  'mu_minus_mean': 0.05340321362018585,\n",
       "  'epsilon_plus_std': 0.013606677763164043,\n",
       "  'epsilon_minus_std': 0.024680383503437042,\n",
       "  'mu_plus_std': 0.022995080798864365,\n",
       "  'mu_minus_std': 0.021685583516955376,\n",
       "  'epsilon_plus_real': 0.25,\n",
       "  'epsilon_minus_real': 0.75,\n",
       "  'mu_plus_real': 0.09,\n",
       "  'mu_minus_real': 0.05,\n",
       "  'pos_interactions_plus': 41.0,\n",
       "  'pos_interactions_minus': 6.0,\n",
       "  'tot_interactions': 95,\n",
       "  'T': 20,\n",
       "  'N': 100,\n",
       "  'edge_per_t': 5,\n",
       "  'var_X_end': 0.08939463170579415,\n",
       "  'skew_X_end': -0.0010111603427745636,\n",
       "  'kurtosis_X_end': -1.3176830985633374,\n",
       "  'bimodality_X_end': 0.04581160654275566}]"
      ]
     },
     "execution_count": 32,
     "metadata": {},
     "output_type": "execute_result"
    }
   ],
   "source": [
    "exp"
   ]
  },
  {
   "cell_type": "code",
   "execution_count": null,
   "metadata": {},
   "outputs": [],
   "source": [
    "if __name__ == '__main__':\n",
    "    T, N = [int(sys.argv[k + 2]) for k in range(2)]\n",
    "    method = sys.argv[4]\n",
    "    date = sys.argv[5]\n",
    "\n",
    "    rep = sys.argv[1]\n",
    "    t0 = time()\n",
    "    edge_per_t = 10\n",
    "\n",
    "    id = f\"{rep}_{N}_{T}\"\n",
    "    \n",
    "    if not os.path.exists(f\"../data/update_{date}\"):\n",
    "        try:\n",
    "            os.mkdir(f\"../data/update_{date}\")\n",
    "        except:\n",
    "            None\n",
    "    \n",
    "    path = f\"../data/update_{date}/estimation_T{T}_N{N}_rep{rep}_method{method}.pkl\"\n",
    "\n",
    "    print(f\"++++++ update rep {rep} start {T} {N} {method} ++++++++\")\n",
    "\n",
    "    experiment = complete_experiment(N, T, edge_per_t, rho = 32,                    \n",
    "                        n_steps=800, n_samples=200, \n",
    "                        method = method, populations_budget = 40, #intermediate_populations = 5,\n",
    "                        population_size = 200, lr = 0.01,\n",
    "                        id = id, date = date\n",
    "                        )\n",
    "    \n",
    "    save_pickle(experiment, path)\n",
    "\n",
    "    print(f\">>>>>>>> update rep {rep} save {T} {N} {method} {round(time() - t0)}s <<<<<<<\")\n",
    "            \n"
   ]
  },
  {
   "cell_type": "code",
   "execution_count": 70,
   "metadata": {},
   "outputs": [],
   "source": [
    "import inference_update"
   ]
  },
  {
   "cell_type": "code",
   "execution_count": null,
   "metadata": {},
   "outputs": [],
   "source": [
    "res_inf = inference_update.train_svi(X, edges, guide_family = \"NF\", rho = 32,\n",
    "             n_steps = 10000, intermediate_steps = None, lr = 0.01,\n",
    "             progress_bar = True)\n"
   ]
  },
  {
   "cell_type": "code",
   "execution_count": null,
   "metadata": {},
   "outputs": [],
   "source": []
  },
  {
   "cell_type": "code",
   "execution_count": null,
   "metadata": {},
   "outputs": [],
   "source": []
  },
  {
   "cell_type": "code",
   "execution_count": null,
   "metadata": {},
   "outputs": [],
   "source": []
  },
  {
   "cell_type": "code",
   "execution_count": null,
   "metadata": {},
   "outputs": [],
   "source": []
  },
  {
   "cell_type": "code",
   "execution_count": null,
   "metadata": {},
   "outputs": [],
   "source": []
  }
 ],
 "metadata": {
  "kernelspec": {
   "display_name": "lotm_env",
   "language": "python",
   "name": "python3"
  },
  "language_info": {
   "codemirror_mode": {
    "name": "ipython",
    "version": 3
   },
   "file_extension": ".py",
   "mimetype": "text/x-python",
   "name": "python",
   "nbconvert_exporter": "python",
   "pygments_lexer": "ipython3",
   "version": "3.9.18"
  },
  "orig_nbformat": 4
 },
 "nbformat": 4,
 "nbformat_minor": 2
}
