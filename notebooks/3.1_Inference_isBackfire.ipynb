{
 "cells": [
  {
   "cell_type": "code",
   "execution_count": 4,
   "metadata": {},
   "outputs": [],
   "source": [
    "import sys \n",
    "sys.path += [\"../src\"]\n",
    "import BC_leaders, BC_update\n",
    "import numpy as np\n",
    "from tqdm import tqdm\n",
    "from time import time\n",
    "import pickle\n",
    "from glob import glob\n",
    "from pyABC_ import pyabc\n",
    "from scipy.special import expit as np_sigmoid\n",
    "\n",
    "import os\n",
    "from tempfile import gettempdir\n",
    "from pyABC_.pyabc.sampler import SingleCoreSampler\n",
    "from jax.scipy.special import expit as sigmoid\n",
    "import jax\n",
    "import jax.numpy as jnp\n",
    "from jax.experimental import sparse\n",
    "from numpyro.infer import SVI, Trace_ELBO, TraceGraph_ELBO, MCMC, NUTS\n",
    "from numpyro.infer.autoguide import AutoNormal, AutoBNAFNormal, AutoIAFNormal\n",
    "from numpyro import distributions\n",
    "import numpyro\n",
    "from numpyro.optim import Adam\n",
    "import jax.random as random\n",
    "from datetime import timedelta\n",
    "# numpyro.set_platform(\"gpu\")\n",
    "from diptest import dipstat\n",
    "from scipy.stats import kurtosis, skew\n",
    "import matplotlib.pyplot as plt"
   ]
  },
  {
   "cell_type": "code",
   "execution_count": 5,
   "metadata": {},
   "outputs": [
    {
     "data": {
      "text/plain": [
       "<module 'BC_update' from '/home/jacopo.lenti/LOTM/notebooks/../src/BC_update.py'>"
      ]
     },
     "execution_count": 5,
     "metadata": {},
     "output_type": "execute_result"
    }
   ],
   "source": [
    "from importlib import reload\n",
    "reload(BC_update)"
   ]
  },
  {
   "cell_type": "code",
   "execution_count": 6,
   "metadata": {},
   "outputs": [],
   "source": [
    "#### new update ####\n",
    "\n",
    "def compute_X_from_X0_params(X0, edges_iter, mu_plus, mu_minus, is_backfire = True):\n",
    "    # edges_iter = (edges_t for edges_t in edges)\n",
    "    # Xt = jax.lax.stop_gradient(X0.copy())\n",
    "    Xt = X0.copy()\n",
    "    X_list = [Xt.copy()]\n",
    "    \n",
    "    N = len(Xt)\n",
    "    \n",
    "    while True:\n",
    "        edges_t = next(edges_iter, None)\n",
    "        if edges_t is None:\n",
    "            break\n",
    "        \n",
    "        u,v,s_plus,s_minus = edges_t.T\n",
    "        u,v = u.astype(int),v.astype(int)\n",
    "        diff_X = Xt[u] - Xt[v]\n",
    "\n",
    "        updates_plus = mu_plus * s_plus * diff_X\n",
    "        updates_minus = (mu_minus * s_minus * diff_X) * is_backfire\n",
    "        # print(updates_minus)\n",
    "        # Xt = Xt.at[v].add(updates_plus - updates_minus).clip(1e-5, 1 - 1e-5)\n",
    "        Xt[v] += updates_plus - updates_minus\n",
    "        Xt[v] = np.clip(Xt[v], 1e-5, 1 - 1e-5)\n",
    "        \n",
    "        X_list.append(Xt.copy())\n",
    "\n",
    "    return jnp.stack(X_list)\n"
   ]
  },
  {
   "cell_type": "code",
   "execution_count": 7,
   "metadata": {},
   "outputs": [],
   "source": [
    "# def initialize_training(X, edges, rho = 32):\n",
    "#     T, N = X.shape    \n",
    "#     edges_iter = (edges_t for edges_t in edges)\n",
    "#     u,v,s_plus,s_minus,t = BC_leaders.convert_edges_uvst(edges)\n",
    "#     s_plus, s_minus = jnp.float32(s_plus), jnp.float32(s_minus)\n",
    "\n",
    "#     # X0 = np.array(X[0])\n",
    "#     X0 = jnp.array(X[0].copy())\n",
    "#     return {\"u\": u, \"v\": v, \"s_plus\": s_plus, \"s_minus\": s_minus, \"t\": t,\n",
    "#             \"N\": N, \"T\": T, \"rho\": rho, \"X0\": X0,# \"edges\":edges\n",
    "#             \"edges_iter\": edges_iter\n",
    "#             }\n",
    "\n",
    "def initialize_training(X, edges, mu_plus, mu_minus, rho = 32):\n",
    "    T, N = X.shape    \n",
    "    u,v,s_plus,s_minus,t = BC_leaders.convert_edges_uvst(edges)\n",
    "    s_plus, s_minus = jnp.float32(s_plus), jnp.float32(s_minus)\n",
    "\n",
    "    X0 = np.array(X[0])\n",
    "    edges_iter = (edge for edge in edges)\n",
    "    X_bc = compute_X_from_X0_params(X0, edges_iter, mu_plus, mu_minus, is_backfire = False)\n",
    "    edges_iter = (edge for edge in edges)\n",
    "    X_back = compute_X_from_X0_params(X0, edges_iter, mu_plus, mu_minus, is_backfire = True)\n",
    "    u,v,t = u.astype(int), v.astype(int), t.astype(int)\n",
    "\n",
    "    diff_X_bc = X_bc[t,u] - X_bc[t,v]\n",
    "    diff_X_back = X_back[t,u] - X_back[t,v]\n",
    "\n",
    "    return {\"u\": u, \"v\": v, \"s_plus\": s_plus, \"s_minus\": s_minus, \"t\": t,\n",
    "            \"N\": N, \"T\": T, \"rho\": rho,\n",
    "            \"diff_X_bc\": diff_X_bc, \"diff_X_back\": diff_X_back}\n",
    "\n"
   ]
  },
  {
   "cell_type": "code",
   "execution_count": 8,
   "metadata": {},
   "outputs": [],
   "source": [
    "def model(data):\n",
    "    dim = 3\n",
    "    dist = distributions.Normal(jnp.zeros(dim), jnp.ones(dim)).to_event(1)\n",
    "    params = numpyro.sample(\"theta\", dist)\n",
    "    \n",
    "    theta = params[:2]\n",
    "    param_backfire = params[2:]\n",
    "    epsilon_plus, epsilon_minus = sigmoid(theta) /  2 + jnp.array([0.,.5])\n",
    "\n",
    "    ############\n",
    "    diff_X_bc,diff_X_back,u,v,s_plus, s_minus,t, rho, N, T = [data[k] for k in [\"diff_X_bc\", \"diff_X_back\",\"u\",\"v\",\n",
    "                                                                      \"s_plus\", \"s_minus\",\"t\",\n",
    "                                                                      \"rho\", \"N\", \"T\"]]\n",
    "    \n",
    "    \n",
    "    backfire_sample = numpyro.sample(\"backfire\", distributions.RelaxedBernoulli(probs = param_backfire, temperature = jnp.array([0.1])).to_event(1))\n",
    "    is_backfire = backfire_sample[0]\n",
    "        \n",
    "    s_plus = jnp.array(s_plus)\n",
    "    s_minus = jnp.array(s_minus)\n",
    " \n",
    "    diff_X = (1 - is_backfire) * diff_X_bc + is_backfire * diff_X_back\n",
    "    kappas_plus = BC_leaders.kappa_plus_from_epsilon(epsilon_plus, diff_X, rho, with_jax = True)\n",
    "    kappas_minus = BC_leaders.kappa_minus_from_epsilon(epsilon_minus, diff_X, rho, with_jax = True)\n",
    "    kappas_ = jnp.concatenate([kappas_minus, kappas_plus])\n",
    "    s = jnp.concatenate([s_minus, s_plus])\n",
    "\n",
    "    with numpyro.plate(\"data\", s.shape[0]):\n",
    "        numpyro.sample(\"obs\", distributions.Bernoulli(probs = kappas_), obs = s)\n",
    "\n"
   ]
  },
  {
   "cell_type": "code",
   "execution_count": 9,
   "metadata": {},
   "outputs": [],
   "source": [
    "def train_mcmc(X, edges, mu_plus, mu_minus, intermediate_samples = None, rho = 32, num_chains = 1,\n",
    "               warmup_samples = None, n_samples = 400, progress_bar = False, id = None, timeout = 3600):\n",
    "    if intermediate_samples is None:\n",
    "        intermediate_samples = n_samples\n",
    "    if warmup_samples is None:\n",
    "        warmup_samples = intermediate_samples\n",
    "\n",
    "    initialize_training(jnp.array(X), jnp.array(edges), mu_plus, mu_minus, rho = rho)\n",
    "    key = random.PRNGKey(0)\n",
    "    mcmc = MCMC(NUTS(model), num_warmup = warmup_samples, num_chains = num_chains, \n",
    "                num_samples = intermediate_samples, progress_bar = progress_bar)\n",
    "    res = []\n",
    "    tot_time = 0\n",
    "    for _ in range(int(n_samples / intermediate_samples)):\n",
    "        t0 = time()\n",
    "        mcmc.run(key, data)\n",
    "        t1 = time()\n",
    "        tot_time += t1 - t0\n",
    "\n",
    "        mcmc.post_warmup_state = mcmc.last_state\n",
    "        key = mcmc.post_warmup_state.rng_key\n",
    "        \n",
    "        mcmc_samples = mcmc.get_samples()\n",
    "        param_mean, param_std, backfire_prob = analyse_samples(mcmc_samples)\n",
    "        res.append({\"param_mean\": param_mean,\n",
    "                    \"param_std\": param_std,\n",
    "                    \"backfire_prob\": backfire_prob,\n",
    "                    \"tot_time\": tot_time,\n",
    "                    \"n_simulations\": None,\n",
    "                    \"method\": \"mcmc\",\n",
    "                    \"n_steps\": None,\n",
    "                    \"n_samples\": intermediate_samples * (_ + 1),\n",
    "                    \"id\": id})\n",
    "        if tot_time > timeout:\n",
    "            break\n",
    "\n",
    "    return res\n",
    "\n"
   ]
  },
  {
   "cell_type": "code",
   "execution_count": 10,
   "metadata": {},
   "outputs": [],
   "source": [
    "def train_svi(X, edges, mu_plus, mu_minus, guide_family = \"normal\", rho = 32,\n",
    "              n_steps = 4000, intermediate_steps = None, lr = 0.01, \n",
    "              progress_bar = False, id = None, timeout = 3600):\n",
    "    if intermediate_steps is None:\n",
    "        intermediate_steps = n_steps\n",
    "    \n",
    "    if guide_family == \"normal\":\n",
    "        guide = AutoNormal(model)\n",
    "    if guide_family == \"NF\":\n",
    "        guide = AutoBNAFNormal(model, num_flows = 1, hidden_factors = (8,8))\n",
    "        n_steps = int(n_steps / 2)\n",
    "        intermediate_steps = int(intermediate_steps / 2)\n",
    "    \n",
    "    data = initialize_training(jnp.array(X), jnp.array(edges), mu_plus, mu_minus, rho = rho)\n",
    "    optimizer = Adam(step_size = lr)\n",
    "    svi = SVI(model, guide, optimizer, loss = TraceGraph_ELBO())\n",
    "    res = []\n",
    "    last_state = None\n",
    "\n",
    "    tot_time = 0\n",
    "    \n",
    "    for _ in range(int(n_steps / intermediate_steps)):\n",
    "        t0 = time()\n",
    "        svi_results = svi.run(random.PRNGKey(0), intermediate_steps, data, \n",
    "                              init_state = last_state, progress_bar = progress_bar)\n",
    "        t1 = time()\n",
    "        tot_time += t1 - t0\n",
    "\n",
    "        theta_samples = guide.sample_posterior(random.PRNGKey(0), svi_results.params, sample_shape = (200,))\n",
    "        param_mean, param_std, backfire_prob = analyse_samples(theta_samples)\n",
    "        \n",
    "        res_analysis = {\"param_mean\": param_mean,\n",
    "                        \"param_std\": param_std,\n",
    "                        \"backfire_prob\": backfire_prob,\n",
    "                        \"tot_time\": tot_time,\n",
    "                        \"n_simulations\": None,\n",
    "                        \"method\": \"svi\" + guide_family,\n",
    "                        \"n_steps\": intermediate_steps * (_ + 1),\n",
    "                        \"n_samples\": None,\n",
    "                        \"id\": id\n",
    "                        }\n",
    "        res.append(res_analysis)\n",
    "\n",
    "        last_state = svi_results.state\n",
    "        if tot_time > timeout:\n",
    "            break\n",
    "\n",
    "    return res\n"
   ]
  },
  {
   "cell_type": "code",
   "execution_count": 11,
   "metadata": {},
   "outputs": [],
   "source": [
    "######## pyabc #############\n",
    "# def create_s_update_X(X_t, edges_iter, edge_per_t, parameters, rho,\n",
    "#                      summary_statistics_list, X_list):\n",
    "#     edges_t = next(edges_iter, None)\n",
    "#     if edges_t is not None:\n",
    "#         epsilon_plus,epsilon_minus, mu_plus, mu_minus = epsilons_from_theta(parameters, dict_theta = True, numpy = True)\n",
    "#         u,v,_,_ = edges_t.T\n",
    "\n",
    "#         diff_X = X_t[u] - X_t[v]\n",
    "#         s_plus = ((np.random.rand(edge_per_t) < np_sigmoid(rho * (epsilon_plus - np.abs(diff_X))))) + 0\n",
    "#         s_minus = ((np.random.rand(edge_per_t) < np_sigmoid(-rho * (epsilon_minus - np.abs(diff_X))))) + 0\n",
    "\n",
    "#         updates_plus = mu_plus * s_plus * diff_X \n",
    "#         updates_minus = mu_minus * s_minus * diff_X \n",
    "#         X_t[v] += updates_plus - updates_minus\n",
    "#         X_t[v] = np.clip(X_t[v], 1e-5, 1 - 1e-5)\n",
    "#         X_list.append(X_t[None,:].copy())\n",
    "#         summary_statistics_list.append(np.concatenate([u[None,:],v[None,:],s_plus[None,:], s_minus[None,:]])[None,:])\n",
    "#         create_s_update_X(X_t, edges_iter, edge_per_t, parameters, rho, summary_statistics_list, X_list)\n",
    "#     edges_sim = np.concatenate(summary_statistics_list).transpose(0,2,1)\n",
    "#     return {\"s_plus_sum\": edges_sim[:,:,-2].sum(axis = 1), \n",
    "#             \"s_minus_sum\": edges_sim[:,:,-1].sum(axis = 1)}\n",
    "\n",
    "def create_summary_statistics(X0, edges_iter, edge_per_t, parameters, mu_plus, mu_minus, rho):\n",
    "    summary_statistics_list = []\n",
    "    Xt = X0.copy()\n",
    "    N = len(Xt)\n",
    "    \n",
    "    while True:\n",
    "        edges_t = next(edges_iter, None)\n",
    "        if edges_t is None:\n",
    "            break\n",
    "        is_backfire = parameters[\"theta2\"]\n",
    "        epsilon_plus,epsilon_minus = epsilons_from_theta(parameters, dict_theta = True, numpy = True)\n",
    "        u,v,_,_ = edges_t.T\n",
    "        u,v = u.astype(int),v.astype(int)\n",
    "        diff_X = Xt[u] - Xt[v]\n",
    "        # s_plus = ((np.random.rand(edge_per_t) < np_sigmoid(rho * (epsilon_plus - np.abs(diff_X))))) + 0\n",
    "        # s_minus = ((np.random.rand(edge_per_t) < np_sigmoid(-rho * (epsilon_minus - np.abs(diff_X))))) + 0\n",
    "        s_plus =  (np.abs(diff_X) > epsilon_plus) + 0\n",
    "        s_minus = (np.abs(diff_X) < epsilon_minus) + 0\n",
    "\n",
    "        updates_plus = mu_plus * s_plus * diff_X \n",
    "        updates_minus = mu_minus * s_minus * diff_X * is_backfire\n",
    "        Xt[v] += updates_plus - updates_minus\n",
    "        Xt[v] = np.clip(Xt[v], 1e-5, 1 - 1e-5)\n",
    "            \n",
    "        summary_statistics_list.append(np.concatenate([u[None,:],v[None,:],s_plus[None,:], s_minus[None,:]])[None,:])\n",
    "\n",
    "    edges_sim = np.concatenate(summary_statistics_list).transpose(0,2,1)\n",
    "    return {\"s_plus_sum\": edges_sim[:,:,-2].sum(axis = 1), \n",
    "            \"s_minus_sum\": edges_sim[:,:,-1].sum(axis = 1)}\n",
    "\n",
    "    \n",
    "\n",
    "def create_trajectory(X0, edges, parameters, mu_plus, mu_minus, rho):\n",
    "    X0 = X0.copy()\n",
    "    edges_iter = (edges_t for edges_t in edges)\n",
    "    T, edge_per_t, _ = edges.shape\n",
    "    summary_statistics = create_summary_statistics(X0, edges_iter, edge_per_t, parameters, mu_plus, mu_minus, rho)\n",
    "    # summary_statistics = create_s_update_X(X0, edges_iter, edge_per_t, parameters, rho, [], [X0[None,:].copy()])\n",
    "    return summary_statistics\n",
    "\n",
    "def sim_trajectory_X0_edges(X0, edges, mu_plus, mu_minus, rho):\n",
    "    return lambda parameters: create_trajectory(X0, edges, parameters, mu_plus, mu_minus, rho)\n",
    "\n",
    "\n",
    "\n",
    "def train_abc(X, edges, mu_plus, mu_minus, populations_budget = 10, intermediate_populations = None,\n",
    "              population_size = 200, rho = 32, id = None, timeout = 3600):\n",
    "    if intermediate_populations is None:\n",
    "        intermediate_populations = populations_budget\n",
    "    \n",
    "    T = len(X)\n",
    "    res = []\n",
    "    tot_time = 0\n",
    "    model_abc = sim_trajectory_X0_edges(X[0], edges, mu_plus, mu_minus, rho)\n",
    "    prior = pyabc.Distribution(\n",
    "                theta0=pyabc.RV(\"norm\", 0, 1),\n",
    "                theta1=pyabc.RV(\"norm\", 0, 1),\n",
    "                theta2=pyabc.RV(\"rv_discrete\", values = (np.arange(2), 0.5 * np.ones(2))))\n",
    "    distance = pyabc.PNormDistance(2)\n",
    "    obs = {\"s_plus_sum\": edges[:,:,-2].sum(axis = 1), \n",
    "           \"s_minus_sum\": edges[:,:,-1].sum(axis = 1)}\n",
    "    abc = pyabc.ABCSMC(model_abc, prior, distance, population_size = population_size)#, sampler = SingleCoreSampler())\n",
    "    db = \"sqlite:///\" + os.path.join(gettempdir(), f\"{id}_update_test.db\")\n",
    "    history = abc.new(db, obs)\n",
    "    run_id = history.id\n",
    "    for _ in range(int(populations_budget / intermediate_populations)):\n",
    "        abc_continued = pyabc.ABCSMC(model_abc, prior, distance, population_size = population_size)#, sampler = SingleCoreSampler())\n",
    "        abc_continued.load(db, run_id)\n",
    "        t0 = time()\n",
    "        history = abc_continued.run(max_nr_populations = intermediate_populations,\n",
    "                                    minimum_epsilon = 5 * (T ** (1/2)),\n",
    "                                    max_walltime = timedelta(hours = 3))\n",
    "        t1 = time()\n",
    "        tot_time += (t1 - t0)\n",
    "        theta_samples = jnp.array(history.get_distribution()[0])\n",
    "\n",
    "        param_mean, param_std, backfire_prob = analyse_samples(theta_samples)\n",
    "        res_analysis = {\"param_mean\": param_mean,\n",
    "                        \"param_std\": param_std,\n",
    "                        \"backfire_prob\": backfire_prob,\n",
    "                        \"tot_time\": tot_time,\n",
    "                        \"n_simulations\": history.total_nr_simulations,\n",
    "                        \"method\": \"abc\",\n",
    "                        \"n_steps\": None,\n",
    "                        \"n_samples\": None,\n",
    "                        \"id\": id\n",
    "                        }\n",
    "        res.append(res_analysis)\n",
    "        if tot_time > timeout:\n",
    "            break\n",
    "    return res\n",
    "\n",
    "\n",
    "\n"
   ]
  },
  {
   "cell_type": "code",
   "execution_count": 12,
   "metadata": {},
   "outputs": [],
   "source": [
    "def count_interactions(X, edges):\n",
    "    T, N = X.shape\n",
    "    _,edge_per_t,_ = edges.shape\n",
    "    \n",
    "    pos_interactions_plus, pos_interactions_minus = edges[:,:,2].sum(), edges[:,:,3].sum()\n",
    "    tot_interactions = (T - 1) * edge_per_t\n",
    "    \n",
    "\n",
    "    return {\"pos_interactions_plus\":pos_interactions_plus, \n",
    "            \"pos_interactions_minus\":pos_interactions_minus, \n",
    "            \"tot_interactions\":tot_interactions,\n",
    "            \"T\": T, \"N\": N, \"edge_per_t\": edge_per_t,\n",
    "            \"var_X_end\": X[-1].var(),\n",
    "            \"skew_X_end\": skew(X[-1]),\n",
    "            \"kurtosis_X_end\": kurtosis(X[-1]),\n",
    "            \"bimodality_X_end\": dipstat(X[-1]),\n",
    "            }\n",
    "\n",
    "########## all ##############\n",
    "def epsilons_from_theta(parameters, dict_theta = False, numpy = False):\n",
    "    \n",
    "    sigmoid_fn = np_sigmoid if numpy else sigmoid\n",
    "    if dict_theta:\n",
    "        epsilon_plus = sigmoid_fn(parameters[\"theta0\"]) / 2\n",
    "        epsilon_minus = sigmoid_fn(parameters[\"theta1\"]) / 2 + .5\n",
    "        \n",
    "        return epsilon_plus,epsilon_minus\n",
    "    elif len(parameters.shape) == 1:\n",
    "        epsilon_plus,epsilon_minus = sigmoid(parameters) / 2 + jnp.array([0.,.5])\n",
    "        return epsilon_plus,epsilon_minus\n",
    "    else:\n",
    "        trans_theta = (sigmoid(parameters) / 2 + jnp.array([0.,.5])).T\n",
    "        return trans_theta\n",
    "\n",
    "def analyse_samples(samples):\n",
    "        param_samples = epsilons_from_theta(samples[\"theta\"][:,:2], dict_theta = False, numpy = False).T\n",
    "        param_mean, param_std = param_samples.mean(axis = 0), param_samples.std(axis = 0)\n",
    "        backfire_prob = samples[\"backfire\"].mean(axis = 0)\n",
    "        \n",
    "        return param_mean, param_std, backfire_prob\n",
    "\n",
    "def analyse_results(epsilon_plus, epsilon_minus, mu_plus, mu_minus, \n",
    "                    param_mean, param_std, n_samples, n_steps, n_simulations, id,\n",
    "                    tot_time, method):\n",
    "    params = np.array([epsilon_plus, epsilon_minus, mu_plus, mu_minus])\n",
    "\n",
    "    param_names = [\"epsilon_plus\", \"epsilon_minus\", \"mu_plus\", \"mu_minus\"]\n",
    "    out = {\n",
    "            \"id\": id,\n",
    "            \"mse_params\": ((params - param_mean)**2).mean().item(), \n",
    "            \"mse_epsilon\": ((params[:2] - param_mean[:2])**2).mean().item(), \n",
    "            \"mse_mu\": ((params[2:] - param_mean[2:])**2).mean().item(), \n",
    "            \"tot_time\": tot_time,\n",
    "            \"n_steps\": n_steps, \n",
    "            \"n_samples\": n_samples,\n",
    "            \"method\": method,\n",
    "            \"n_simulations\": n_simulations\n",
    "            }\n",
    "\n",
    "    out.update({u + \"_error\": np.abs(params[k] - param_mean[k]) for k, u in enumerate(param_names)})\n",
    "    out.update({u + \"_mean\": param_mean[k].item() for k, u in enumerate(param_names)})\n",
    "    out.update({u + \"_std\": param_std[k].item() for k, u in enumerate(param_names)})\n",
    "    out.update({u + \"_real\": params[k].item() for k, u in enumerate(param_names)})\n",
    "\n",
    "    return out\n",
    "        \n",
    "\n",
    "def save_pickle(out, path):\n",
    "    if path is not None:\n",
    "        with open(path, \"wb\") as f:\n",
    "            pickle.dump(out, f)\n",
    "\n",
    "\n"
   ]
  },
  {
   "cell_type": "code",
   "execution_count": 13,
   "metadata": {},
   "outputs": [],
   "source": [
    "def complete_experiment(N, T, edge_per_t, rho = 32,\n",
    "                        method = \"svinormal\",\n",
    "                        epsilon_plus = None, epsilon_minus = None, mu_plus = None, mu_minus = None,\n",
    "                        n_steps = 1000, n_samples = 100, populations_budget = 10, num_chains = 1,\n",
    "                        intermediate_steps = None, intermediate_samples = None, warmup_samples = None, \n",
    "                        intermediate_populations = None, population_size = 200, \n",
    "                        lr = 0.01, progress_bar = False, timeout = 25000, id = None, date = None, save_data = True\n",
    "                        ):\n",
    "    if len(glob(f\"../data/update_{date}/X_{id}*\")) > 0:\n",
    "        X_file = glob(f\"../data/update_{date}/X_{id}*\")[0]\n",
    "        edges_file = glob(f\"../data/update_{date}/edges_{id}*\")[0]\n",
    "        X = np.load(X_file)\n",
    "        edges = np.load(edges_file)\n",
    "        \n",
    "        _,_,epsilon_plus,epsilon_minus, mu_plus, mu_minus = [int(u) for u in X_file.split(\"/\")[-1].split(\"_\")[2:-1]]\n",
    "        epsilon_plus, epsilon_minus, mu_plus, mu_minus = np.array([epsilon_plus, epsilon_minus, mu_plus, mu_minus]) / 100\n",
    "    else:\n",
    "        if epsilon_plus is None:\n",
    "            epsilon_plus = np.random.randint(5) * 0.1 + 0.05\n",
    "            epsilon_minus = np.random.randint(5) * 0.1 + 0.55\n",
    "            mu_plus = np.random.randint(5) * 0.02 + 0.01\n",
    "            mu_minus = np.random.randint(5) * 0.02 + 0.01\n",
    "\n",
    "        X, edges = BC_update.simulate_trajectory(N = N, T = T, edge_per_t = edge_per_t, \n",
    "                                                  epsilon_plus = epsilon_plus, epsilon_minus = epsilon_minus, \n",
    "                                                  mu_plus = mu_plus, mu_minus = mu_minus, rho = rho)  \n",
    "\n",
    "\n",
    "        if save_data:\n",
    "            np.save(f\"../data/update_{date}/X_{id}_{int(epsilon_plus * 100)}_{int(epsilon_minus * 100)}_{int(mu_plus * 100)}_{int(mu_minus * 100)}_.npy\", X)\n",
    "            np.save(f\"../data/update_{date}/edges_{id}_{int(epsilon_plus * 100)}_{int(epsilon_minus * 100)}_{int(mu_plus * 100)}_{int(mu_minus * 100)}_.npy\", edges)\n",
    "        \n",
    "\n",
    "    analysis_data = count_interactions(X, edges)\n",
    "    \n",
    "    \n",
    "    out = []\n",
    "    if method == \"svinormal\":\n",
    "        res_svinormal = train_svi(X, edges, guide_family = \"normal\", rho = rho,\n",
    "             n_steps = n_steps, intermediate_steps = intermediate_steps, lr = lr, \n",
    "             progress_bar = progress_bar, id = id, timeout = timeout)\n",
    "        out += res_svinormal\n",
    "    if method == \"sviNF\":\n",
    "        res_svinf = train_svi(X, edges, guide_family = \"NF\", rho = rho,\n",
    "             n_steps = n_steps, intermediate_steps = intermediate_steps, lr = lr, \n",
    "             progress_bar = progress_bar, id = id, timeout = timeout)\n",
    "        out += res_svinf\n",
    "    if method == \"mcmc\":\n",
    "        res_mcmc = train_mcmc(X, edges, intermediate_samples = intermediate_samples, warmup_samples = warmup_samples,  rho = rho,\n",
    "                              n_samples = n_samples, num_chains = num_chains, progress_bar = progress_bar, id = id, timeout = timeout)\n",
    "        out += res_mcmc\n",
    "    if method == \"abc\":\n",
    "        res_abc = train_abc(X, edges, populations_budget = populations_budget, intermediate_populations = intermediate_populations,\n",
    "                            population_size = population_size, rho = rho, id = id, timeout = timeout)\n",
    "        out += res_abc\n",
    "    complete_analysis = [analyse_results(epsilon_plus, epsilon_minus, mu_plus, mu_minus, **res)|analysis_data for res in out]\n",
    "    return complete_analysis\n",
    "    # return out, analysis_data\n",
    "\n",
    "\n"
   ]
  },
  {
   "cell_type": "code",
   "execution_count": 14,
   "metadata": {},
   "outputs": [],
   "source": [
    "N = 50\n",
    "T = 128\n",
    "edge_per_t = 20\n",
    "epsilon_plus = 0.1\n",
    "epsilon_minus = 0.8\n",
    "mu_plus = 0.05\n",
    "mu_minus = 0.12\n",
    "is_backfire = True\n",
    "rho = 32"
   ]
  },
  {
   "cell_type": "code",
   "execution_count": 15,
   "metadata": {},
   "outputs": [],
   "source": [
    "X, edges = BC_update.simulate_trajectory(N = N, T = T, edge_per_t = edge_per_t,\n",
    "                                         epsilon_plus = epsilon_plus, epsilon_minus = epsilon_minus,\n",
    "                                         mu_plus = mu_plus, mu_minus = mu_minus * is_backfire, rho = rho)\n"
   ]
  },
  {
   "cell_type": "code",
   "execution_count": 16,
   "metadata": {},
   "outputs": [],
   "source": [
    "N = 100\n",
    "T = 32\n",
    "edge_per_t = 10\n",
    "rho = 32"
   ]
  },
  {
   "cell_type": "code",
   "execution_count": 24,
   "metadata": {},
   "outputs": [],
   "source": [
    "epsilon_plus = np.random.randint(5) * 0.1 + 0.05\n",
    "epsilon_minus = np.random.randint(5) * 0.1 + 0.55\n",
    "is_backfire = False\n",
    "mu_plus = np.random.randint(10) * 0.02 + 0.01\n",
    "mu_minus = np.random.randint(10) * 0.02 + 0.01\n",
    "X, edges = BC_update.simulate_trajectory(N = N, T = T, edge_per_t = edge_per_t, \n",
    "                                         epsilon_plus = epsilon_plus, epsilon_minus = epsilon_minus, \n",
    "                                         mu_plus = mu_plus, mu_minus = mu_minus * is_backfire, rho = rho)  \n"
   ]
  },
  {
   "cell_type": "code",
   "execution_count": 25,
   "metadata": {},
   "outputs": [
    {
     "data": {
      "image/png": "[encoded data removed]",
      "text/plain": [
       "<Figure size 400x200 with 2 Axes>"
      ]
     },
     "metadata": {},
     "output_type": "display_data"
    }
   ],
   "source": [
    "fig, axes = plt.subplots(ncols = 2,figsize = (4,2))\n",
    "edges_iter = (edge for edge in edges)\n",
    "axes[0].plot(compute_X_from_X0_params(X[0], edges_iter, mu_plus, mu_minus, is_backfire = True))\n",
    "edges_iter = (edge for edge in edges)\n",
    "axes[1].plot(compute_X_from_X0_params(X[0], edges_iter, mu_plus, mu_minus, is_backfire = False))\n",
    "fig.show()"
   ]
  },
  {
   "cell_type": "code",
   "execution_count": 17,
   "metadata": {},
   "outputs": [
    {
     "name": "stderr",
     "output_type": "stream",
     "text": [
      "100%|██████████| 10000/10000 [00:22<00:00, 443.32it/s, init loss: 459.1280, avg. loss [9501-10000]: 343.4629]\n"
     ]
    }
   ],
   "source": [
    "res_svinf = train_svi(X, edges, mu_plus, mu_minus, guide_family = \"normal\", rho = 32,\n",
    "             n_steps = 10000, intermediate_steps = None, lr = 0.01,\n",
    "             progress_bar = True)"
   ]
  },
  {
   "cell_type": "code",
   "execution_count": 19,
   "metadata": {},
   "outputs": [
    {
     "data": {
      "text/plain": [
       "[{'param_mean': Array([0.09471975, 0.7915223 ], dtype=float32),\n",
       "  'param_std': Array([0.00279232, 0.00530905], dtype=float32),\n",
       "  'backfire_prob': Array([0.8929135], dtype=float32),\n",
       "  'tot_time': 48.320146799087524,\n",
       "  'n_simulations': None,\n",
       "  'method': 'svinormal',\n",
       "  'n_steps': 10000,\n",
       "  'n_samples': None,\n",
       "  'id': None}]"
      ]
     },
     "execution_count": 19,
     "metadata": {},
     "output_type": "execute_result"
    }
   ],
   "source": [
    "res_svinf"
   ]
  },
  {
   "cell_type": "code",
   "execution_count": 22,
   "metadata": {},
   "outputs": [],
   "source": [
    "import inference_isbackfire"
   ]
  },
  {
   "cell_type": "code",
   "execution_count": 28,
   "metadata": {},
   "outputs": [
    {
     "data": {
      "text/plain": [
       "(0.13, 0.11, 0.25, 0.55)"
      ]
     },
     "execution_count": 28,
     "metadata": {},
     "output_type": "execute_result"
    }
   ],
   "source": [
    "mu_plus, mu_minus, epsilon_plus, epsilon_minus"
   ]
  },
  {
   "cell_type": "code",
   "execution_count": 26,
   "metadata": {},
   "outputs": [
    {
     "name": "stderr",
     "output_type": "stream",
     "text": [
      "100%|██████████| 10000/10000 [00:15<00:00, 628.68it/s, init loss: 1101.8994, avg. loss [9501-10000]: 99.9086]\n"
     ]
    },
    {
     "data": {
      "text/plain": [
       "[{'param_mean': Array([0.26283005, 0.5632258 ], dtype=float32),\n",
       "  'param_std': Array([0.00476825, 0.00613809], dtype=float32),\n",
       "  'backfire_prob': Array([0.10197362], dtype=float32),\n",
       "  'tot_time': 22.41696524620056,\n",
       "  'n_simulations': None,\n",
       "  'method': 'svinormal',\n",
       "  'n_steps': 10000,\n",
       "  'n_samples': None,\n",
       "  'id': None}]"
      ]
     },
     "execution_count": 26,
     "metadata": {},
     "output_type": "execute_result"
    }
   ],
   "source": [
    "inference_isbackfire.train_svi(X, edges, mu_plus, mu_minus, guide_family = \"normal\", rho = 32,\n",
    "                               n_steps = 10000, intermediate_steps = None, lr = 0.01,\n",
    "                               progress_bar = True)"
   ]
  },
  {
   "cell_type": "code",
   "execution_count": 20,
   "metadata": {},
   "outputs": [
    {
     "data": {
      "text/plain": [
       "[{'param_mean': Array([0.04688191, 0.65349424], dtype=float32),\n",
       "  'param_std': Array([0.00483315, 0.0071182 ], dtype=float32),\n",
       "  'backfire_prob': Array([0.00867099], dtype=float32),\n",
       "  'tot_time': 7.964637756347656,\n",
       "  'n_simulations': None,\n",
       "  'method': 'svinormal',\n",
       "  'n_steps': 10000,\n",
       "  'n_samples': None,\n",
       "  'id': None}]"
      ]
     },
     "execution_count": 20,
     "metadata": {},
     "output_type": "execute_result"
    }
   ],
   "source": [
    "res_svinf"
   ]
  },
  {
   "cell_type": "code",
   "execution_count": 15,
   "metadata": {},
   "outputs": [
    {
     "ename": "KeyboardInterrupt",
     "evalue": "",
     "output_type": "error",
     "traceback": [
      "\u001b[0;31m---------------------------------------------------------------------------\u001b[0m",
      "\u001b[0;31mKeyboardInterrupt\u001b[0m                         Traceback (most recent call last)",
      "\u001b[1;32m/home/jacopo.lenti/LOTM/notebooks/3.1_Inference_isBackfire.ipynb Cell 16\u001b[0m line \u001b[0;36m1\n\u001b[0;32m----> <a href='vscode-notebook-cell://ssh-remote%2B7b22686f73744e616d65223a226d6567617a6f72642e63656e7461692e6575222c2275736572223a226a61636f706f2e6c656e7469227d/home/jacopo.lenti/LOTM/notebooks/3.1_Inference_isBackfire.ipynb#X20sdnNjb2RlLXJlbW90ZQ%3D%3D?line=0'>1</a>\u001b[0m res_mcmc \u001b[39m=\u001b[39m train_mcmc(X, edges, mu_plus, mu_minus, rho \u001b[39m=\u001b[39;49m \u001b[39m32\u001b[39;49m,\n\u001b[1;32m      <a href='vscode-notebook-cell://ssh-remote%2B7b22686f73744e616d65223a226d6567617a6f72642e63656e7461692e6575222c2275736572223a226a61636f706f2e6c656e7469227d/home/jacopo.lenti/LOTM/notebooks/3.1_Inference_isBackfire.ipynb#X20sdnNjb2RlLXJlbW90ZQ%3D%3D?line=1'>2</a>\u001b[0m              n_samples \u001b[39m=\u001b[39;49m \u001b[39m200\u001b[39;49m, \n\u001b[1;32m      <a href='vscode-notebook-cell://ssh-remote%2B7b22686f73744e616d65223a226d6567617a6f72642e63656e7461692e6575222c2275736572223a226a61636f706f2e6c656e7469227d/home/jacopo.lenti/LOTM/notebooks/3.1_Inference_isBackfire.ipynb#X20sdnNjb2RlLXJlbW90ZQ%3D%3D?line=2'>3</a>\u001b[0m              progress_bar \u001b[39m=\u001b[39;49m \u001b[39mTrue\u001b[39;49;00m)\n",
      "\u001b[1;32m/home/jacopo.lenti/LOTM/notebooks/3.1_Inference_isBackfire.ipynb Cell 16\u001b[0m line \u001b[0;36m8\n\u001b[1;32m      <a href='vscode-notebook-cell://ssh-remote%2B7b22686f73744e616d65223a226d6567617a6f72642e63656e7461692e6575222c2275736572223a226a61636f706f2e6c656e7469227d/home/jacopo.lenti/LOTM/notebooks/3.1_Inference_isBackfire.ipynb#X20sdnNjb2RlLXJlbW90ZQ%3D%3D?line=4'>5</a>\u001b[0m \u001b[39mif\u001b[39;00m warmup_samples \u001b[39mis\u001b[39;00m \u001b[39mNone\u001b[39;00m:\n\u001b[1;32m      <a href='vscode-notebook-cell://ssh-remote%2B7b22686f73744e616d65223a226d6567617a6f72642e63656e7461692e6575222c2275736572223a226a61636f706f2e6c656e7469227d/home/jacopo.lenti/LOTM/notebooks/3.1_Inference_isBackfire.ipynb#X20sdnNjb2RlLXJlbW90ZQ%3D%3D?line=5'>6</a>\u001b[0m     warmup_samples \u001b[39m=\u001b[39m intermediate_samples\n\u001b[0;32m----> <a href='vscode-notebook-cell://ssh-remote%2B7b22686f73744e616d65223a226d6567617a6f72642e63656e7461692e6575222c2275736572223a226a61636f706f2e6c656e7469227d/home/jacopo.lenti/LOTM/notebooks/3.1_Inference_isBackfire.ipynb#X20sdnNjb2RlLXJlbW90ZQ%3D%3D?line=7'>8</a>\u001b[0m initialize_training(jnp\u001b[39m.\u001b[39;49marray(X), jnp\u001b[39m.\u001b[39;49marray(edges), mu_plus, mu_minus, rho \u001b[39m=\u001b[39;49m rho)\n\u001b[1;32m      <a href='vscode-notebook-cell://ssh-remote%2B7b22686f73744e616d65223a226d6567617a6f72642e63656e7461692e6575222c2275736572223a226a61636f706f2e6c656e7469227d/home/jacopo.lenti/LOTM/notebooks/3.1_Inference_isBackfire.ipynb#X20sdnNjb2RlLXJlbW90ZQ%3D%3D?line=8'>9</a>\u001b[0m key \u001b[39m=\u001b[39m random\u001b[39m.\u001b[39mPRNGKey(\u001b[39m0\u001b[39m)\n\u001b[1;32m     <a href='vscode-notebook-cell://ssh-remote%2B7b22686f73744e616d65223a226d6567617a6f72642e63656e7461692e6575222c2275736572223a226a61636f706f2e6c656e7469227d/home/jacopo.lenti/LOTM/notebooks/3.1_Inference_isBackfire.ipynb#X20sdnNjb2RlLXJlbW90ZQ%3D%3D?line=9'>10</a>\u001b[0m mcmc \u001b[39m=\u001b[39m MCMC(NUTS(model), num_warmup \u001b[39m=\u001b[39m warmup_samples, num_chains \u001b[39m=\u001b[39m num_chains, \n\u001b[1;32m     <a href='vscode-notebook-cell://ssh-remote%2B7b22686f73744e616d65223a226d6567617a6f72642e63656e7461692e6575222c2275736572223a226a61636f706f2e6c656e7469227d/home/jacopo.lenti/LOTM/notebooks/3.1_Inference_isBackfire.ipynb#X20sdnNjb2RlLXJlbW90ZQ%3D%3D?line=10'>11</a>\u001b[0m             num_samples \u001b[39m=\u001b[39m intermediate_samples, progress_bar \u001b[39m=\u001b[39m progress_bar)\n",
      "\u001b[1;32m/home/jacopo.lenti/LOTM/notebooks/3.1_Inference_isBackfire.ipynb Cell 16\u001b[0m line \u001b[0;36m2\n\u001b[1;32m     <a href='vscode-notebook-cell://ssh-remote%2B7b22686f73744e616d65223a226d6567617a6f72642e63656e7461692e6575222c2275736572223a226a61636f706f2e6c656e7469227d/home/jacopo.lenti/LOTM/notebooks/3.1_Inference_isBackfire.ipynb#X20sdnNjb2RlLXJlbW90ZQ%3D%3D?line=20'>21</a>\u001b[0m X_bc \u001b[39m=\u001b[39m compute_X_from_X0_params(X0, edges_iter, mu_plus, mu_minus, is_backfire \u001b[39m=\u001b[39m \u001b[39mFalse\u001b[39;00m)\n\u001b[1;32m     <a href='vscode-notebook-cell://ssh-remote%2B7b22686f73744e616d65223a226d6567617a6f72642e63656e7461692e6575222c2275736572223a226a61636f706f2e6c656e7469227d/home/jacopo.lenti/LOTM/notebooks/3.1_Inference_isBackfire.ipynb#X20sdnNjb2RlLXJlbW90ZQ%3D%3D?line=21'>22</a>\u001b[0m edges_iter \u001b[39m=\u001b[39m (edge \u001b[39mfor\u001b[39;00m edge \u001b[39min\u001b[39;00m edges)\n\u001b[0;32m---> <a href='vscode-notebook-cell://ssh-remote%2B7b22686f73744e616d65223a226d6567617a6f72642e63656e7461692e6575222c2275736572223a226a61636f706f2e6c656e7469227d/home/jacopo.lenti/LOTM/notebooks/3.1_Inference_isBackfire.ipynb#X20sdnNjb2RlLXJlbW90ZQ%3D%3D?line=22'>23</a>\u001b[0m X_back \u001b[39m=\u001b[39m compute_X_from_X0_params(X0, edges_iter, mu_plus, mu_minus, is_backfire \u001b[39m=\u001b[39;49m \u001b[39mTrue\u001b[39;49;00m)\n\u001b[1;32m     <a href='vscode-notebook-cell://ssh-remote%2B7b22686f73744e616d65223a226d6567617a6f72642e63656e7461692e6575222c2275736572223a226a61636f706f2e6c656e7469227d/home/jacopo.lenti/LOTM/notebooks/3.1_Inference_isBackfire.ipynb#X20sdnNjb2RlLXJlbW90ZQ%3D%3D?line=23'>24</a>\u001b[0m u,v,t \u001b[39m=\u001b[39m u\u001b[39m.\u001b[39mastype(\u001b[39mint\u001b[39m), v\u001b[39m.\u001b[39mastype(\u001b[39mint\u001b[39m), t\u001b[39m.\u001b[39mastype(\u001b[39mint\u001b[39m)\n\u001b[1;32m     <a href='vscode-notebook-cell://ssh-remote%2B7b22686f73744e616d65223a226d6567617a6f72642e63656e7461692e6575222c2275736572223a226a61636f706f2e6c656e7469227d/home/jacopo.lenti/LOTM/notebooks/3.1_Inference_isBackfire.ipynb#X20sdnNjb2RlLXJlbW90ZQ%3D%3D?line=25'>26</a>\u001b[0m diff_X_bc \u001b[39m=\u001b[39m X_bc[t,u] \u001b[39m-\u001b[39m X_bc[t,v]\n",
      "\u001b[1;32m/home/jacopo.lenti/LOTM/notebooks/3.1_Inference_isBackfire.ipynb Cell 16\u001b[0m line \u001b[0;36m1\n\u001b[1;32m     <a href='vscode-notebook-cell://ssh-remote%2B7b22686f73744e616d65223a226d6567617a6f72642e63656e7461692e6575222c2275736572223a226a61636f706f2e6c656e7469227d/home/jacopo.lenti/LOTM/notebooks/3.1_Inference_isBackfire.ipynb#X20sdnNjb2RlLXJlbW90ZQ%3D%3D?line=13'>14</a>\u001b[0m     \u001b[39mbreak\u001b[39;00m\n\u001b[1;32m     <a href='vscode-notebook-cell://ssh-remote%2B7b22686f73744e616d65223a226d6567617a6f72642e63656e7461692e6575222c2275736572223a226a61636f706f2e6c656e7469227d/home/jacopo.lenti/LOTM/notebooks/3.1_Inference_isBackfire.ipynb#X20sdnNjb2RlLXJlbW90ZQ%3D%3D?line=15'>16</a>\u001b[0m u,v,s_plus,s_minus \u001b[39m=\u001b[39m edges_t\u001b[39m.\u001b[39mT\n\u001b[0;32m---> <a href='vscode-notebook-cell://ssh-remote%2B7b22686f73744e616d65223a226d6567617a6f72642e63656e7461692e6575222c2275736572223a226a61636f706f2e6c656e7469227d/home/jacopo.lenti/LOTM/notebooks/3.1_Inference_isBackfire.ipynb#X20sdnNjb2RlLXJlbW90ZQ%3D%3D?line=16'>17</a>\u001b[0m u,v \u001b[39m=\u001b[39m u\u001b[39m.\u001b[39mastype(\u001b[39mint\u001b[39m),v\u001b[39m.\u001b[39;49mastype(\u001b[39mint\u001b[39;49m)\n\u001b[1;32m     <a href='vscode-notebook-cell://ssh-remote%2B7b22686f73744e616d65223a226d6567617a6f72642e63656e7461692e6575222c2275736572223a226a61636f706f2e6c656e7469227d/home/jacopo.lenti/LOTM/notebooks/3.1_Inference_isBackfire.ipynb#X20sdnNjb2RlLXJlbW90ZQ%3D%3D?line=17'>18</a>\u001b[0m diff_X \u001b[39m=\u001b[39m Xt[u] \u001b[39m-\u001b[39m Xt[v]\n\u001b[1;32m     <a href='vscode-notebook-cell://ssh-remote%2B7b22686f73744e616d65223a226d6567617a6f72642e63656e7461692e6575222c2275736572223a226a61636f706f2e6c656e7469227d/home/jacopo.lenti/LOTM/notebooks/3.1_Inference_isBackfire.ipynb#X20sdnNjb2RlLXJlbW90ZQ%3D%3D?line=19'>20</a>\u001b[0m updates_plus \u001b[39m=\u001b[39m mu_plus \u001b[39m*\u001b[39m s_plus \u001b[39m*\u001b[39m diff_X\n",
      "File \u001b[0;32m~/miniconda3/envs/lotm_env/lib/python3.9/site-packages/jax/_src/numpy/array_methods.py:66\u001b[0m, in \u001b[0;36m_astype\u001b[0;34m(arr, dtype)\u001b[0m\n\u001b[1;32m     58\u001b[0m \u001b[39mdef\u001b[39;00m \u001b[39m_astype\u001b[39m(arr: ArrayLike, dtype: DTypeLike) \u001b[39m-\u001b[39m\u001b[39m>\u001b[39m Array:\n\u001b[1;32m     59\u001b[0m \u001b[39m  \u001b[39m\u001b[39m\"\"\"Copy the array and cast to a specified dtype.\u001b[39;00m\n\u001b[1;32m     60\u001b[0m \n\u001b[1;32m     61\u001b[0m \u001b[39m  This is implemented via :func:`jax.lax.convert_element_type`, which may\u001b[39;00m\n\u001b[0;32m   (...)\u001b[0m\n\u001b[1;32m     64\u001b[0m \u001b[39m  casts are implementation dependent.\u001b[39;00m\n\u001b[1;32m     65\u001b[0m \u001b[39m  \"\"\"\u001b[39;00m\n\u001b[0;32m---> 66\u001b[0m   \u001b[39mreturn\u001b[39;00m lax_numpy\u001b[39m.\u001b[39;49mastype(arr, dtype)\n",
      "File \u001b[0;32m~/miniconda3/envs/lotm_env/lib/python3.9/site-packages/jax/_src/numpy/lax_numpy.py:2198\u001b[0m, in \u001b[0;36mastype\u001b[0;34m(***failed resolving arguments***)\u001b[0m\n\u001b[1;32m   2196\u001b[0m   dtype \u001b[39m=\u001b[39m dtypes\u001b[39m.\u001b[39mcanonicalize_dtype(float_)\n\u001b[1;32m   2197\u001b[0m dtypes\u001b[39m.\u001b[39mcheck_user_dtype_supported(dtype, \u001b[39m\"\u001b[39m\u001b[39mastype\u001b[39m\u001b[39m\"\u001b[39m)\n\u001b[0;32m-> 2198\u001b[0m \u001b[39mreturn\u001b[39;00m lax\u001b[39m.\u001b[39;49mconvert_element_type(x, dtype)\n",
      "File \u001b[0;32m~/miniconda3/envs/lotm_env/lib/python3.9/site-packages/jax/_src/lax/lax.py:516\u001b[0m, in \u001b[0;36mconvert_element_type\u001b[0;34m(operand, new_dtype)\u001b[0m\n\u001b[1;32m    501\u001b[0m \u001b[39mdef\u001b[39;00m \u001b[39mconvert_element_type\u001b[39m(operand: ArrayLike, new_dtype: DTypeLike) \u001b[39m-\u001b[39m\u001b[39m>\u001b[39m Array:\n\u001b[1;32m    502\u001b[0m \u001b[39m  \u001b[39m\u001b[39m\"\"\"Elementwise cast.\u001b[39;00m\n\u001b[1;32m    503\u001b[0m \n\u001b[1;32m    504\u001b[0m \u001b[39m  Wraps XLA's `ConvertElementType\u001b[39;00m\n\u001b[0;32m   (...)\u001b[0m\n\u001b[1;32m    514\u001b[0m \u001b[39m    An array with the same shape as `operand`, cast elementwise to `new_dtype`.\u001b[39;00m\n\u001b[1;32m    515\u001b[0m \u001b[39m  \"\"\"\u001b[39;00m\n\u001b[0;32m--> 516\u001b[0m   \u001b[39mreturn\u001b[39;00m _convert_element_type(operand, new_dtype, weak_type\u001b[39m=\u001b[39;49m\u001b[39mFalse\u001b[39;49;00m)\n",
      "File \u001b[0;32m~/miniconda3/envs/lotm_env/lib/python3.9/site-packages/jax/_src/lax/lax.py:530\u001b[0m, in \u001b[0;36m_convert_element_type\u001b[0;34m(operand, new_dtype, weak_type)\u001b[0m\n\u001b[1;32m    525\u001b[0m   \u001b[39mreturn\u001b[39;00m convert_element_type_p\u001b[39m.\u001b[39mbind(operand, new_dtype\u001b[39m=\u001b[39mnew_dtype,\n\u001b[1;32m    526\u001b[0m                                      weak_type\u001b[39m=\u001b[39m\u001b[39mbool\u001b[39m(weak_type))\n\u001b[1;32m    528\u001b[0m \u001b[39m# Don't canonicalize old_dtype because x64 context might cause\u001b[39;00m\n\u001b[1;32m    529\u001b[0m \u001b[39m# un-canonicalized operands to be passed in.\u001b[39;00m\n\u001b[0;32m--> 530\u001b[0m old_dtype \u001b[39m=\u001b[39m dtypes\u001b[39m.\u001b[39;49mdtype(operand, canonicalize\u001b[39m=\u001b[39;49m\u001b[39mFalse\u001b[39;49;00m)\n\u001b[1;32m    531\u001b[0m old_weak_type \u001b[39m=\u001b[39m dtypes\u001b[39m.\u001b[39mis_weakly_typed(operand)\n\u001b[1;32m    532\u001b[0m \u001b[39mif\u001b[39;00m new_dtype \u001b[39mis\u001b[39;00m \u001b[39mNone\u001b[39;00m:\n",
      "File \u001b[0;32m~/miniconda3/envs/lotm_env/lib/python3.9/site-packages/jax/_src/dtypes.py:605\u001b[0m, in \u001b[0;36mdtype\u001b[0;34m(x, canonicalize)\u001b[0m\n\u001b[1;32m    603\u001b[0m \u001b[39melse\u001b[39;00m:\n\u001b[1;32m    604\u001b[0m   \u001b[39mtry\u001b[39;00m:\n\u001b[0;32m--> 605\u001b[0m     dt \u001b[39m=\u001b[39m np\u001b[39m.\u001b[39mresult_type(x)\n\u001b[1;32m    606\u001b[0m   \u001b[39mexcept\u001b[39;00m \u001b[39mTypeError\u001b[39;00m \u001b[39mas\u001b[39;00m err:\n\u001b[1;32m    607\u001b[0m     \u001b[39mraise\u001b[39;00m \u001b[39mTypeError\u001b[39;00m(\u001b[39mf\u001b[39m\u001b[39m\"\u001b[39m\u001b[39mCannot determine dtype of \u001b[39m\u001b[39m{\u001b[39;00mx\u001b[39m}\u001b[39;00m\u001b[39m\"\u001b[39m) \u001b[39mfrom\u001b[39;00m \u001b[39merr\u001b[39;00m\n",
      "\u001b[0;31mKeyboardInterrupt\u001b[0m: "
     ]
    }
   ],
   "source": [
    "res_mcmc = train_mcmc(X, edges, mu_plus, mu_minus, rho = 32,\n",
    "             n_samples = 200, \n",
    "             progress_bar = True)"
   ]
  },
  {
   "cell_type": "code",
   "execution_count": 364,
   "metadata": {},
   "outputs": [
    {
     "name": "stderr",
     "output_type": "stream",
     "text": [
      "ABC.Population WARNING: The total population weight 5.930433211255859e-09 is close to zero, which can be numerically problematic\n",
      "ABC.Population WARNING: The total population weight 5.930433211255859e-09 is close to zero, which can be numerically problematic\n",
      "ABC.Population WARNING: The total population weight 4.074888047303059e-09 is close to zero, which can be numerically problematic\n",
      "ABC.Population WARNING: The total population weight 4.074888047303059e-09 is close to zero, which can be numerically problematic\n",
      "ABC.Population WARNING: The total population weight 2.2473703877249172e-09 is close to zero, which can be numerically problematic\n",
      "ABC.Population WARNING: The total population weight 2.2473703877249172e-09 is close to zero, which can be numerically problematic\n",
      "ABC.Population WARNING: The total population weight 1.0688589136367234e-09 is close to zero, which can be numerically problematic\n",
      "ABC.Population WARNING: The total population weight 1.0688589136367234e-09 is close to zero, which can be numerically problematic\n",
      "ABC.Population WARNING: The total population weight 5.570506581440328e-10 is close to zero, which can be numerically problematic\n",
      "ABC.Population WARNING: The total population weight 5.570506581440328e-10 is close to zero, which can be numerically problematic\n",
      "ABC.Population WARNING: The total population weight 3.79613245876446e-10 is close to zero, which can be numerically problematic\n",
      "ABC.Population WARNING: The total population weight 3.79613245876446e-10 is close to zero, which can be numerically problematic\n",
      "ABC.Population WARNING: The total population weight 2.1927989790985176e-10 is close to zero, which can be numerically problematic\n",
      "ABC.Population WARNING: The total population weight 2.1927989790985176e-10 is close to zero, which can be numerically problematic\n",
      "ABC.Population WARNING: The total population weight 1.1547758899715311e-10 is close to zero, which can be numerically problematic\n",
      "ABC.Population WARNING: The total population weight 1.1547758899715311e-10 is close to zero, which can be numerically problematic\n",
      "ABC.Population WARNING: The total population weight 8.632048629270615e-11 is close to zero, which can be numerically problematic\n",
      "ABC.Population WARNING: The total population weight 8.632048629270615e-11 is close to zero, which can be numerically problematic\n",
      "ABC.Population WARNING: The total population weight 6.19513466259145e-11 is close to zero, which can be numerically problematic\n",
      "ABC.Population WARNING: The total population weight 6.19513466259145e-11 is close to zero, which can be numerically problematic\n",
      "ABC.Population WARNING: The total population weight 3.673919663195896e-11 is close to zero, which can be numerically problematic\n",
      "ABC.Population WARNING: The total population weight 3.673919663195896e-11 is close to zero, which can be numerically problematic\n",
      "ABC.Population WARNING: The total population weight 2.6443536030193576e-11 is close to zero, which can be numerically problematic\n",
      "ABC.Population WARNING: The total population weight 2.6443536030193576e-11 is close to zero, which can be numerically problematic\n",
      "ABC.Population WARNING: The total population weight 1.2876177222587952e-11 is close to zero, which can be numerically problematic\n",
      "ABC.Population WARNING: The total population weight 1.2876177222587952e-11 is close to zero, which can be numerically problematic\n",
      "ABC.Population WARNING: The total population weight 3.904128241418583e-12 is close to zero, which can be numerically problematic\n",
      "ABC.Population WARNING: The total population weight 3.904128241418583e-12 is close to zero, which can be numerically problematic\n",
      "ABC.Population WARNING: The total population weight 2.942902178851025e-12 is close to zero, which can be numerically problematic\n",
      "ABC.Population WARNING: The total population weight 2.942902178851025e-12 is close to zero, which can be numerically problematic\n",
      "ABC.Population WARNING: The total population weight 1.548483174698824e-12 is close to zero, which can be numerically problematic\n",
      "ABC.Population WARNING: The total population weight 1.548483174698824e-12 is close to zero, which can be numerically problematic\n",
      "ABC.Population WARNING: The total population weight 7.601394136443761e-13 is close to zero, which can be numerically problematic\n",
      "ABC.Population WARNING: The total population weight 7.601394136443761e-13 is close to zero, which can be numerically problematic\n"
     ]
    },
    {
     "ename": "KeyboardInterrupt",
     "evalue": "",
     "output_type": "error",
     "traceback": [
      "\u001b[0;31m---------------------------------------------------------------------------\u001b[0m",
      "\u001b[0;31mKeyboardInterrupt\u001b[0m                         Traceback (most recent call last)",
      "\u001b[1;32m/home/jacopo.lenti/LOTM/notebooks/3.1_Inference_isBackfire.ipynb Cell 16\u001b[0m line \u001b[0;36m1\n\u001b[0;32m----> <a href='vscode-notebook-cell://ssh-remote%2B7b22686f73744e616d65223a226d6567617a6f72642e63656e7461692e6575222c2275736572223a226a61636f706f2e6c656e7469227d/home/jacopo.lenti/LOTM/notebooks/3.1_Inference_isBackfire.ipynb#Y126sdnNjb2RlLXJlbW90ZQ%3D%3D?line=0'>1</a>\u001b[0m res_abc \u001b[39m=\u001b[39m train_abc(X, edges, mu_plus, mu_minus, rho \u001b[39m=\u001b[39;49m \u001b[39m32\u001b[39;49m, populations_budget \u001b[39m=\u001b[39;49m \u001b[39m200\u001b[39;49m)\n",
      "\u001b[1;32m/home/jacopo.lenti/LOTM/notebooks/3.1_Inference_isBackfire.ipynb Cell 16\u001b[0m line \u001b[0;36m9\n\u001b[1;32m     <a href='vscode-notebook-cell://ssh-remote%2B7b22686f73744e616d65223a226d6567617a6f72642e63656e7461692e6575222c2275736572223a226a61636f706f2e6c656e7469227d/home/jacopo.lenti/LOTM/notebooks/3.1_Inference_isBackfire.ipynb#Y126sdnNjb2RlLXJlbW90ZQ%3D%3D?line=90'>91</a>\u001b[0m abc_continued\u001b[39m.\u001b[39mload(db, run_id)\n\u001b[1;32m     <a href='vscode-notebook-cell://ssh-remote%2B7b22686f73744e616d65223a226d6567617a6f72642e63656e7461692e6575222c2275736572223a226a61636f706f2e6c656e7469227d/home/jacopo.lenti/LOTM/notebooks/3.1_Inference_isBackfire.ipynb#Y126sdnNjb2RlLXJlbW90ZQ%3D%3D?line=91'>92</a>\u001b[0m t0 \u001b[39m=\u001b[39m time()\n\u001b[0;32m---> <a href='vscode-notebook-cell://ssh-remote%2B7b22686f73744e616d65223a226d6567617a6f72642e63656e7461692e6575222c2275736572223a226a61636f706f2e6c656e7469227d/home/jacopo.lenti/LOTM/notebooks/3.1_Inference_isBackfire.ipynb#Y126sdnNjb2RlLXJlbW90ZQ%3D%3D?line=92'>93</a>\u001b[0m history \u001b[39m=\u001b[39m abc_continued\u001b[39m.\u001b[39;49mrun(max_nr_populations \u001b[39m=\u001b[39;49m intermediate_populations,\n\u001b[1;32m     <a href='vscode-notebook-cell://ssh-remote%2B7b22686f73744e616d65223a226d6567617a6f72642e63656e7461692e6575222c2275736572223a226a61636f706f2e6c656e7469227d/home/jacopo.lenti/LOTM/notebooks/3.1_Inference_isBackfire.ipynb#Y126sdnNjb2RlLXJlbW90ZQ%3D%3D?line=93'>94</a>\u001b[0m                             minimum_epsilon \u001b[39m=\u001b[39;49m \u001b[39m5\u001b[39;49m \u001b[39m*\u001b[39;49m (T \u001b[39m*\u001b[39;49m\u001b[39m*\u001b[39;49m (\u001b[39m1\u001b[39;49m\u001b[39m/\u001b[39;49m\u001b[39m2\u001b[39;49m)),\n\u001b[1;32m     <a href='vscode-notebook-cell://ssh-remote%2B7b22686f73744e616d65223a226d6567617a6f72642e63656e7461692e6575222c2275736572223a226a61636f706f2e6c656e7469227d/home/jacopo.lenti/LOTM/notebooks/3.1_Inference_isBackfire.ipynb#Y126sdnNjb2RlLXJlbW90ZQ%3D%3D?line=94'>95</a>\u001b[0m                             max_walltime \u001b[39m=\u001b[39;49m timedelta(hours \u001b[39m=\u001b[39;49m \u001b[39m3\u001b[39;49m))\n\u001b[1;32m     <a href='vscode-notebook-cell://ssh-remote%2B7b22686f73744e616d65223a226d6567617a6f72642e63656e7461692e6575222c2275736572223a226a61636f706f2e6c656e7469227d/home/jacopo.lenti/LOTM/notebooks/3.1_Inference_isBackfire.ipynb#Y126sdnNjb2RlLXJlbW90ZQ%3D%3D?line=95'>96</a>\u001b[0m t1 \u001b[39m=\u001b[39m time()\n\u001b[1;32m     <a href='vscode-notebook-cell://ssh-remote%2B7b22686f73744e616d65223a226d6567617a6f72642e63656e7461692e6575222c2275736572223a226a61636f706f2e6c656e7469227d/home/jacopo.lenti/LOTM/notebooks/3.1_Inference_isBackfire.ipynb#Y126sdnNjb2RlLXJlbW90ZQ%3D%3D?line=96'>97</a>\u001b[0m tot_time \u001b[39m+\u001b[39m\u001b[39m=\u001b[39m (t1 \u001b[39m-\u001b[39m t0)\n",
      "File \u001b[0;32m~/LOTM/notebooks/../src/pyABC_/pyabc/inference/smc.py:62\u001b[0m, in \u001b[0;36mrun_cleanup.<locals>.wrapped_run\u001b[0;34m(self, *args, **kwargs)\u001b[0m\n\u001b[1;32m     59\u001b[0m \u001b[39mdef\u001b[39;00m \u001b[39mwrapped_run\u001b[39m(\u001b[39mself\u001b[39m: \u001b[39m\"\u001b[39m\u001b[39mABCSMC\u001b[39m\u001b[39m\"\u001b[39m, \u001b[39m*\u001b[39margs, \u001b[39m*\u001b[39m\u001b[39m*\u001b[39mkwargs):\n\u001b[1;32m     60\u001b[0m     \u001b[39mtry\u001b[39;00m:\n\u001b[1;32m     61\u001b[0m         \u001b[39m# the actual run\u001b[39;00m\n\u001b[0;32m---> 62\u001b[0m         ret \u001b[39m=\u001b[39m run(\u001b[39mself\u001b[39;49m, \u001b[39m*\u001b[39;49margs, \u001b[39m*\u001b[39;49m\u001b[39m*\u001b[39;49mkwargs)\n\u001b[1;32m     63\u001b[0m     \u001b[39mfinally\u001b[39;00m:\n\u001b[1;32m     64\u001b[0m         \u001b[39m# close session and store end time\u001b[39;00m\n\u001b[1;32m     65\u001b[0m         \u001b[39mself\u001b[39m\u001b[39m.\u001b[39mhistory\u001b[39m.\u001b[39mdone(end_time\u001b[39m=\u001b[39mdatetime\u001b[39m.\u001b[39mnow())\n",
      "File \u001b[0;32m~/LOTM/notebooks/../src/pyABC_/pyabc/inference/smc.py:700\u001b[0m, in \u001b[0;36mABCSMC.run\u001b[0;34m(self, minimum_epsilon, max_nr_populations, min_acceptance_rate, max_total_nr_simulations, max_walltime, min_eps_diff)\u001b[0m\n\u001b[1;32m    697\u001b[0m t \u001b[39m=\u001b[39m t0\n\u001b[1;32m    698\u001b[0m \u001b[39mwhile\u001b[39;00m \u001b[39mTrue\u001b[39;00m:\n\u001b[1;32m    699\u001b[0m     \u001b[39m# perform one generation\u001b[39;00m\n\u001b[0;32m--> 700\u001b[0m     ret \u001b[39m=\u001b[39m \u001b[39mself\u001b[39;49m\u001b[39m.\u001b[39;49mrun_generation(t\u001b[39m=\u001b[39;49mt)\n\u001b[1;32m    702\u001b[0m     \u001b[39m# check whether to discontinue\u001b[39;00m\n\u001b[1;32m    703\u001b[0m     \u001b[39mif\u001b[39;00m \u001b[39mnot\u001b[39;00m ret[\u001b[39m\"\u001b[39m\u001b[39msuccessful\u001b[39m\u001b[39m\"\u001b[39m] \u001b[39mor\u001b[39;00m \u001b[39mself\u001b[39m\u001b[39m.\u001b[39mcheck_terminate(\n\u001b[1;32m    704\u001b[0m         t\u001b[39m=\u001b[39mt,\n\u001b[1;32m    705\u001b[0m         acceptance_rate\u001b[39m=\u001b[39mret[\u001b[39m\"\u001b[39m\u001b[39macceptance_rate\u001b[39m\u001b[39m\"\u001b[39m],\n\u001b[1;32m    706\u001b[0m     ):\n",
      "File \u001b[0;32m~/LOTM/notebooks/../src/pyABC_/pyabc/inference/smc.py:815\u001b[0m, in \u001b[0;36mABCSMC.run_generation\u001b[0;34m(self, t)\u001b[0m\n\u001b[1;32m    807\u001b[0m max_eval \u001b[39m=\u001b[39m (\n\u001b[1;32m    808\u001b[0m     np\u001b[39m.\u001b[39minf\n\u001b[1;32m    809\u001b[0m     \u001b[39mif\u001b[39;00m \u001b[39mself\u001b[39m\u001b[39m.\u001b[39mmin_acceptance_rate \u001b[39m==\u001b[39m \u001b[39m0.0\u001b[39m\n\u001b[1;32m    810\u001b[0m     \u001b[39melse\u001b[39;00m pop_size \u001b[39m/\u001b[39m \u001b[39mself\u001b[39m\u001b[39m.\u001b[39mmin_acceptance_rate\n\u001b[1;32m    811\u001b[0m )\n\u001b[1;32m    813\u001b[0m \u001b[39m# perform the sampling\u001b[39;00m\n\u001b[1;32m    814\u001b[0m \u001b[39m# logger.debug(f\"Submitting population {t}.\")\u001b[39;00m\n\u001b[0;32m--> 815\u001b[0m sample \u001b[39m=\u001b[39m \u001b[39mself\u001b[39;49m\u001b[39m.\u001b[39;49msampler\u001b[39m.\u001b[39;49msample_until_n_accepted(\n\u001b[1;32m    816\u001b[0m     n\u001b[39m=\u001b[39;49mpop_size,\n\u001b[1;32m    817\u001b[0m     simulate_one\u001b[39m=\u001b[39;49msimulate_one,\n\u001b[1;32m    818\u001b[0m     t\u001b[39m=\u001b[39;49mt,\n\u001b[1;32m    819\u001b[0m     max_eval\u001b[39m=\u001b[39;49mmax_eval,\n\u001b[1;32m    820\u001b[0m     ana_vars\u001b[39m=\u001b[39;49m\u001b[39mself\u001b[39;49m\u001b[39m.\u001b[39;49m_vars(t\u001b[39m=\u001b[39;49mt),\n\u001b[1;32m    821\u001b[0m )\n\u001b[1;32m    823\u001b[0m \u001b[39m# check sample health\u001b[39;00m\n\u001b[1;32m    824\u001b[0m \u001b[39mif\u001b[39;00m \u001b[39mnot\u001b[39;00m sample\u001b[39m.\u001b[39mok:\n\u001b[1;32m    825\u001b[0m     \u001b[39m# logger.info(\"Stopping: sample not ok.\")\u001b[39;00m\n",
      "File \u001b[0;32m~/LOTM/notebooks/../src/pyABC_/pyabc/sampler/base.py:20\u001b[0m, in \u001b[0;36mwrap_sample.<locals>.sample_until_n_accepted\u001b[0;34m(self, n, simulate_one, t, **kwargs)\u001b[0m\n\u001b[1;32m     19\u001b[0m \u001b[39mdef\u001b[39;00m \u001b[39msample_until_n_accepted\u001b[39m(\u001b[39mself\u001b[39m, n, simulate_one, t, \u001b[39m*\u001b[39m\u001b[39m*\u001b[39mkwargs):\n\u001b[0;32m---> 20\u001b[0m     sample \u001b[39m=\u001b[39m f(\u001b[39mself\u001b[39;49m, n, simulate_one, t, \u001b[39m*\u001b[39;49m\u001b[39m*\u001b[39;49mkwargs)\n\u001b[1;32m     22\u001b[0m     \u001b[39mif\u001b[39;00m sample\u001b[39m.\u001b[39mn_accepted \u001b[39m!=\u001b[39m n \u001b[39mand\u001b[39;00m sample\u001b[39m.\u001b[39mok:\n\u001b[1;32m     23\u001b[0m         \u001b[39m# this should not happen if the sampler is configured correctly\u001b[39;00m\n\u001b[1;32m     24\u001b[0m         \u001b[39mraise\u001b[39;00m \u001b[39mAssertionError\u001b[39;00m(\n\u001b[1;32m     25\u001b[0m             \u001b[39mf\u001b[39m\u001b[39m\"\u001b[39m\u001b[39mExpected \u001b[39m\u001b[39m{\u001b[39;00mn\u001b[39m}\u001b[39;00m\u001b[39m but got \u001b[39m\u001b[39m{\u001b[39;00msample\u001b[39m.\u001b[39mn_accepted\u001b[39m}\u001b[39;00m\u001b[39m acceptances.\u001b[39m\u001b[39m\"\u001b[39m\n\u001b[1;32m     26\u001b[0m         )\n",
      "File \u001b[0;32m~/LOTM/notebooks/../src/pyABC_/pyabc/sampler/multicore_evaluation_parallel.py:141\u001b[0m, in \u001b[0;36mMulticoreEvalParallelSampler.sample_until_n_accepted\u001b[0;34m(self, n, simulate_one, t, max_eval, all_accepted, ana_vars)\u001b[0m\n\u001b[1;32m    139\u001b[0m \u001b[39mwith\u001b[39;00m jabbar(total\u001b[39m=\u001b[39mn, enable\u001b[39m=\u001b[39m\u001b[39mself\u001b[39m\u001b[39m.\u001b[39mshow_progress, keep\u001b[39m=\u001b[39m\u001b[39mFalse\u001b[39;00m) \u001b[39mas\u001b[39;00m bar:\n\u001b[1;32m    140\u001b[0m     \u001b[39mwhile\u001b[39;00m n_done \u001b[39m<\u001b[39m \u001b[39mlen\u001b[39m(processes):\n\u001b[0;32m--> 141\u001b[0m         val \u001b[39m=\u001b[39m get_if_worker_healthy(processes, queue)\n\u001b[1;32m    142\u001b[0m         \u001b[39mif\u001b[39;00m val \u001b[39m==\u001b[39m DONE:\n\u001b[1;32m    143\u001b[0m             n_done \u001b[39m+\u001b[39m\u001b[39m=\u001b[39m \u001b[39m1\u001b[39m\n",
      "File \u001b[0;32m~/LOTM/notebooks/../src/pyABC_/pyabc/sampler/multicorebase.py:99\u001b[0m, in \u001b[0;36mget_if_worker_healthy\u001b[0;34m(workers, queue)\u001b[0m\n\u001b[1;32m     97\u001b[0m \u001b[39mwhile\u001b[39;00m \u001b[39mTrue\u001b[39;00m:\n\u001b[1;32m     98\u001b[0m     \u001b[39mtry\u001b[39;00m:\n\u001b[0;32m---> 99\u001b[0m         item \u001b[39m=\u001b[39m queue\u001b[39m.\u001b[39;49mget(\u001b[39mTrue\u001b[39;49;00m, \u001b[39m5\u001b[39;49m)\n\u001b[1;32m    100\u001b[0m         \u001b[39mreturn\u001b[39;00m item\n\u001b[1;32m    101\u001b[0m     \u001b[39mexcept\u001b[39;00m Empty:\n",
      "File \u001b[0;32m~/miniconda3/envs/lotm_env/lib/python3.9/multiprocessing/queues.py:113\u001b[0m, in \u001b[0;36mQueue.get\u001b[0;34m(self, block, timeout)\u001b[0m\n\u001b[1;32m    111\u001b[0m \u001b[39mif\u001b[39;00m block:\n\u001b[1;32m    112\u001b[0m     timeout \u001b[39m=\u001b[39m deadline \u001b[39m-\u001b[39m time\u001b[39m.\u001b[39mmonotonic()\n\u001b[0;32m--> 113\u001b[0m     \u001b[39mif\u001b[39;00m \u001b[39mnot\u001b[39;00m \u001b[39mself\u001b[39;49m\u001b[39m.\u001b[39;49m_poll(timeout):\n\u001b[1;32m    114\u001b[0m         \u001b[39mraise\u001b[39;00m Empty\n\u001b[1;32m    115\u001b[0m \u001b[39melif\u001b[39;00m \u001b[39mnot\u001b[39;00m \u001b[39mself\u001b[39m\u001b[39m.\u001b[39m_poll():\n",
      "File \u001b[0;32m~/miniconda3/envs/lotm_env/lib/python3.9/multiprocessing/connection.py:257\u001b[0m, in \u001b[0;36m_ConnectionBase.poll\u001b[0;34m(self, timeout)\u001b[0m\n\u001b[1;32m    255\u001b[0m \u001b[39mself\u001b[39m\u001b[39m.\u001b[39m_check_closed()\n\u001b[1;32m    256\u001b[0m \u001b[39mself\u001b[39m\u001b[39m.\u001b[39m_check_readable()\n\u001b[0;32m--> 257\u001b[0m \u001b[39mreturn\u001b[39;00m \u001b[39mself\u001b[39;49m\u001b[39m.\u001b[39;49m_poll(timeout)\n",
      "File \u001b[0;32m~/miniconda3/envs/lotm_env/lib/python3.9/multiprocessing/connection.py:424\u001b[0m, in \u001b[0;36mConnection._poll\u001b[0;34m(self, timeout)\u001b[0m\n\u001b[1;32m    423\u001b[0m \u001b[39mdef\u001b[39;00m \u001b[39m_poll\u001b[39m(\u001b[39mself\u001b[39m, timeout):\n\u001b[0;32m--> 424\u001b[0m     r \u001b[39m=\u001b[39m wait([\u001b[39mself\u001b[39;49m], timeout)\n\u001b[1;32m    425\u001b[0m     \u001b[39mreturn\u001b[39;00m \u001b[39mbool\u001b[39m(r)\n",
      "File \u001b[0;32m~/miniconda3/envs/lotm_env/lib/python3.9/multiprocessing/connection.py:931\u001b[0m, in \u001b[0;36mwait\u001b[0;34m(object_list, timeout)\u001b[0m\n\u001b[1;32m    928\u001b[0m     deadline \u001b[39m=\u001b[39m time\u001b[39m.\u001b[39mmonotonic() \u001b[39m+\u001b[39m timeout\n\u001b[1;32m    930\u001b[0m \u001b[39mwhile\u001b[39;00m \u001b[39mTrue\u001b[39;00m:\n\u001b[0;32m--> 931\u001b[0m     ready \u001b[39m=\u001b[39m selector\u001b[39m.\u001b[39;49mselect(timeout)\n\u001b[1;32m    932\u001b[0m     \u001b[39mif\u001b[39;00m ready:\n\u001b[1;32m    933\u001b[0m         \u001b[39mreturn\u001b[39;00m [key\u001b[39m.\u001b[39mfileobj \u001b[39mfor\u001b[39;00m (key, events) \u001b[39min\u001b[39;00m ready]\n",
      "File \u001b[0;32m~/miniconda3/envs/lotm_env/lib/python3.9/selectors.py:416\u001b[0m, in \u001b[0;36m_PollLikeSelector.select\u001b[0;34m(self, timeout)\u001b[0m\n\u001b[1;32m    414\u001b[0m ready \u001b[39m=\u001b[39m []\n\u001b[1;32m    415\u001b[0m \u001b[39mtry\u001b[39;00m:\n\u001b[0;32m--> 416\u001b[0m     fd_event_list \u001b[39m=\u001b[39m \u001b[39mself\u001b[39;49m\u001b[39m.\u001b[39;49m_selector\u001b[39m.\u001b[39;49mpoll(timeout)\n\u001b[1;32m    417\u001b[0m \u001b[39mexcept\u001b[39;00m \u001b[39mInterruptedError\u001b[39;00m:\n\u001b[1;32m    418\u001b[0m     \u001b[39mreturn\u001b[39;00m ready\n",
      "\u001b[0;31mKeyboardInterrupt\u001b[0m: "
     ]
    }
   ],
   "source": [
    "res_abc = train_abc(X, edges, mu_plus, mu_minus, rho = 32, populations_budget = 200)"
   ]
  },
  {
   "cell_type": "code",
   "execution_count": 359,
   "metadata": {},
   "outputs": [
    {
     "data": {
      "text/plain": [
       "({'param_mean': Array([0.09911286, 0.8379765 ], dtype=float32),\n",
       "  'param_std': Array([0.0011964 , 0.00235555], dtype=float32),\n",
       "  'backfire_prob': Array([0.9986557], dtype=float32),\n",
       "  'tot_time': 23.563847541809082,\n",
       "  'n_simulations': None,\n",
       "  'method': 'sviNF',\n",
       "  'n_steps': 5000,\n",
       "  'n_samples': None,\n",
       "  'id': None},\n",
       " {'param_mean': Array([0.1670443 , 0.76918197], dtype=float32),\n",
       "  'param_std': Array([0.00850605, 0.01608652], dtype=float32),\n",
       "  'backfire_prob': Array([0.00145417], dtype=float32),\n",
       "  'tot_time': 7.912664413452148,\n",
       "  'n_simulations': None,\n",
       "  'method': 'mcmc',\n",
       "  'n_steps': None,\n",
       "  'n_samples': 200,\n",
       "  'id': None},\n",
       " [])"
      ]
     },
     "execution_count": 359,
     "metadata": {},
     "output_type": "execute_result"
    }
   ],
   "source": [
    "res_svinf[0], res_mcmc[0], res_abc"
   ]
  },
  {
   "cell_type": "code",
   "execution_count": 69,
   "metadata": {},
   "outputs": [
    {
     "name": "stdout",
     "output_type": "stream",
     "text": [
      "10\n"
     ]
    },
    {
     "name": "stderr",
     "output_type": "stream",
     "text": [
      "100%|██████████| 5000/5000 [00:04<00:00, 1116.67it/s, init loss: 65.9158, avg. loss [4751-5000]: 8.5953]\n"
     ]
    },
    {
     "name": "stdout",
     "output_type": "stream",
     "text": [
      "15\n"
     ]
    },
    {
     "name": "stderr",
     "output_type": "stream",
     "text": [
      "100%|██████████| 5000/5000 [00:06<00:00, 750.40it/s, init loss: 100.0989, avg. loss [4751-5000]: 18.8588] \n"
     ]
    },
    {
     "name": "stdout",
     "output_type": "stream",
     "text": [
      "20\n"
     ]
    },
    {
     "name": "stderr",
     "output_type": "stream",
     "text": [
      "100%|██████████| 5000/5000 [00:11<00:00, 452.76it/s, init loss: 140.5759, avg. loss [4751-5000]: 21.1834] \n"
     ]
    },
    {
     "name": "stdout",
     "output_type": "stream",
     "text": [
      "25\n"
     ]
    },
    {
     "name": "stderr",
     "output_type": "stream",
     "text": [
      "100%|██████████| 5000/5000 [00:14<00:00, 352.49it/s, init loss: 173.0278, avg. loss [4751-5000]: 28.1553] \n"
     ]
    },
    {
     "name": "stdout",
     "output_type": "stream",
     "text": [
      "30\n"
     ]
    },
    {
     "name": "stderr",
     "output_type": "stream",
     "text": [
      "100%|██████████| 5000/5000 [00:16<00:00, 300.98it/s, init loss: 191.2382, avg. loss [4751-5000]: 35.6772]\n"
     ]
    },
    {
     "name": "stdout",
     "output_type": "stream",
     "text": [
      "35\n"
     ]
    },
    {
     "name": "stderr",
     "output_type": "stream",
     "text": [
      "100%|██████████| 5000/5000 [00:21<00:00, 227.52it/s, init loss: 147.4474, avg. loss [4751-5000]: 36.8972]\n"
     ]
    },
    {
     "name": "stdout",
     "output_type": "stream",
     "text": [
      "40\n"
     ]
    },
    {
     "name": "stderr",
     "output_type": "stream",
     "text": [
      "100%|██████████| 5000/5000 [00:25<00:00, 195.96it/s, init loss: 253.1107, avg. loss [4751-5000]: 38.9031]\n"
     ]
    },
    {
     "name": "stdout",
     "output_type": "stream",
     "text": [
      "45\n"
     ]
    },
    {
     "name": "stderr",
     "output_type": "stream",
     "text": [
      "100%|██████████| 5000/5000 [00:32<00:00, 153.56it/s, init loss: 186.9944, avg. loss [4751-5000]: 48.4145]\n"
     ]
    },
    {
     "name": "stdout",
     "output_type": "stream",
     "text": [
      "50\n"
     ]
    },
    {
     "name": "stderr",
     "output_type": "stream",
     "text": [
      "100%|██████████| 5000/5000 [00:39<00:00, 127.87it/s, init loss: 414.3330, avg. loss [4751-5000]: 61.7823]\n"
     ]
    },
    {
     "name": "stdout",
     "output_type": "stream",
     "text": [
      "55\n"
     ]
    },
    {
     "name": "stderr",
     "output_type": "stream",
     "text": [
      "100%|██████████| 5000/5000 [00:48<00:00, 103.34it/s, init loss: 355.9933, avg. loss [4751-5000]: 47.9289]\n"
     ]
    },
    {
     "name": "stdout",
     "output_type": "stream",
     "text": [
      "60\n"
     ]
    },
    {
     "name": "stderr",
     "output_type": "stream",
     "text": [
      "100%|██████████| 5000/5000 [01:02<00:00, 79.59it/s, init loss: 315.6882, avg. loss [4751-5000]: 32.2406] \n"
     ]
    }
   ],
   "source": [
    "N = 20\n",
    "tot_times = []\n",
    "for T in [10, 15, 20, 25, 30, 35, 40, 45, 50, 55, 60]:\n",
    "    print(T)\n",
    "    X, edges = BC_update.simulate_trajectory(N = N, T = T, edge_per_t = edge_per_t,\n",
    "                                         epsilon_plus = epsilon_plus, epsilon_minus = epsilon_minus,\n",
    "                                         mu_plus = mu_plus, mu_minus = mu_minus, rho = rho)\n",
    "    res_svinf = train_svi(X, edges, guide_family = \"NF\", rho = 32,\n",
    "             n_steps = 10000, intermediate_steps = None, lr = 0.01,\n",
    "             progress_bar = True)\n",
    "    tot_times.append((T, res_svinf[0][\"tot_time\"]))\n",
    "    \n"
   ]
  },
  {
   "cell_type": "code",
   "execution_count": 89,
   "metadata": {},
   "outputs": [
    {
     "data": {
      "text/plain": [
       "array([ 11.39561243,  11.94773404,  12.71828183,  13.79366789,\n",
       "        15.29449005,  17.3890561 ,  20.3122585 ,  24.3919161 ,\n",
       "        30.08553692,  38.03162489,  49.121284  ,  64.59815003,\n",
       "        86.19785657, 116.3426754 ])"
      ]
     },
     "execution_count": 89,
     "metadata": {},
     "output_type": "execute_result"
    }
   ],
   "source": [
    "s = np.array([10, 20, 30, 40, 50, 60, 70, 80, 90, 100, 110, 120, 130, 140])\n",
    "np.exp(s / 30) + 10"
   ]
  },
  {
   "cell_type": "code",
   "execution_count": 109,
   "metadata": {},
   "outputs": [
    {
     "data": {
      "text/plain": [
       "[<matplotlib.lines.Line2D at 0x7f5925fead60>]"
      ]
     },
     "execution_count": 109,
     "metadata": {},
     "output_type": "execute_result"
    },
    {
     "data": {
      "image/png": "[encoded data removed]",
      "text/plain": [
       "<Figure size 640x480 with 1 Axes>"
      ]
     },
     "metadata": {},
     "output_type": "display_data"
    }
   ],
   "source": [
    "plt.plot(np.array(tot_times)[:,0], np.array(tot_times)[:,1])\n",
    "plt.plot(s, np.exp((s + 18) / 20) + 8)"
   ]
  },
  {
   "cell_type": "code",
   "execution_count": 43,
   "metadata": {},
   "outputs": [
    {
     "data": {
      "image/png": "[encoded data removed]",
      "text/plain": [
       "<Figure size 1000x500 with 2 Axes>"
      ]
     },
     "metadata": {},
     "output_type": "display_data"
    }
   ],
   "source": [
    "fig, axes = plt.subplots(ncols = 2, figsize = (10, 5))\n",
    "X0 =jnp.array(X[0])\n",
    "edges_iter = (edge_t for edge_t in edges)\n",
    "\n",
    "X1 = compute_X_from_X0_params(X0, edges_iter, res_svinf[0][\"param_mean\"][0],res_svinf[0][\"param_mean\"][1],\n",
    "                              # mu_plus, mu_minus,\n",
    "                              res_svinf[0][\"param_mean\"][2], res_svinf[0][\"param_mean\"][3], \n",
    "                            # 0.01,0.2,\n",
    "                              rho)\n",
    "axes[0].plot(X)\n",
    "axes[1].plot(X1)\n",
    "\n",
    "fig.show()"
   ]
  },
  {
   "cell_type": "code",
   "execution_count": 56,
   "metadata": {},
   "outputs": [],
   "source": [
    "import pandas as pd"
   ]
  },
  {
   "cell_type": "code",
   "execution_count": 69,
   "metadata": {},
   "outputs": [
    {
     "data": {
      "text/html": [
       "<div>\n",
       "<style scoped>\n",
       "    .dataframe tbody tr th:only-of-type {\n",
       "        vertical-align: middle;\n",
       "    }\n",
       "\n",
       "    .dataframe tbody tr th {\n",
       "        vertical-align: top;\n",
       "    }\n",
       "\n",
       "    .dataframe thead th {\n",
       "        text-align: right;\n",
       "    }\n",
       "</style>\n",
       "<table border=\"1\" class=\"dataframe\">\n",
       "  <thead>\n",
       "    <tr style=\"text-align: right;\">\n",
       "      <th></th>\n",
       "      <th>epsilon_plus_error</th>\n",
       "      <th>epsilon_minus_error</th>\n",
       "      <th>mu_plus_error</th>\n",
       "      <th>mu_minus_error</th>\n",
       "      <th>tot_time</th>\n",
       "      <th>hidden_factors</th>\n",
       "      <th>flows</th>\n",
       "      <th>loss</th>\n",
       "    </tr>\n",
       "  </thead>\n",
       "  <tbody>\n",
       "    <tr>\n",
       "      <th>0</th>\n",
       "      <td>0.009659</td>\n",
       "      <td>0.069949</td>\n",
       "      <td>0.034028</td>\n",
       "      <td>0.016305</td>\n",
       "      <td>98.415250</td>\n",
       "      <td>16</td>\n",
       "      <td>1</td>\n",
       "      <td>TraceGraph_ELBO</td>\n",
       "    </tr>\n",
       "    <tr>\n",
       "      <th>1</th>\n",
       "      <td>0.011245</td>\n",
       "      <td>0.045665</td>\n",
       "      <td>0.025068</td>\n",
       "      <td>0.022351</td>\n",
       "      <td>90.856867</td>\n",
       "      <td>16</td>\n",
       "      <td>1</td>\n",
       "      <td>TraceGraph_ELBO</td>\n",
       "    </tr>\n",
       "    <tr>\n",
       "      <th>2</th>\n",
       "      <td>0.011245</td>\n",
       "      <td>0.045665</td>\n",
       "      <td>0.025068</td>\n",
       "      <td>0.022351</td>\n",
       "      <td>90.856867</td>\n",
       "      <td>16</td>\n",
       "      <td>1</td>\n",
       "      <td>TraceGraph_ELBO</td>\n",
       "    </tr>\n",
       "    <tr>\n",
       "      <th>3</th>\n",
       "      <td>0.011434</td>\n",
       "      <td>0.045747</td>\n",
       "      <td>0.025504</td>\n",
       "      <td>0.022913</td>\n",
       "      <td>71.087530</td>\n",
       "      <td>16</td>\n",
       "      <td>1</td>\n",
       "      <td>TraceGraph_ELBO</td>\n",
       "    </tr>\n",
       "    <tr>\n",
       "      <th>4</th>\n",
       "      <td>0.011434</td>\n",
       "      <td>0.045747</td>\n",
       "      <td>0.025504</td>\n",
       "      <td>0.022913</td>\n",
       "      <td>71.087530</td>\n",
       "      <td>16</td>\n",
       "      <td>1</td>\n",
       "      <td>TraceGraph_ELBO</td>\n",
       "    </tr>\n",
       "    <tr>\n",
       "      <th>5</th>\n",
       "      <td>0.011434</td>\n",
       "      <td>0.045747</td>\n",
       "      <td>0.025504</td>\n",
       "      <td>0.022913</td>\n",
       "      <td>71.087530</td>\n",
       "      <td>16</td>\n",
       "      <td>1</td>\n",
       "      <td>TraceGraph_ELBO</td>\n",
       "    </tr>\n",
       "    <tr>\n",
       "      <th>6</th>\n",
       "      <td>0.011434</td>\n",
       "      <td>0.045747</td>\n",
       "      <td>0.025504</td>\n",
       "      <td>0.022913</td>\n",
       "      <td>71.087530</td>\n",
       "      <td>16</td>\n",
       "      <td>1</td>\n",
       "      <td>TraceGraph_ELBO</td>\n",
       "    </tr>\n",
       "    <tr>\n",
       "      <th>7</th>\n",
       "      <td>0.011434</td>\n",
       "      <td>0.045747</td>\n",
       "      <td>0.025504</td>\n",
       "      <td>0.022913</td>\n",
       "      <td>93.569907</td>\n",
       "      <td>16</td>\n",
       "      <td>1</td>\n",
       "      <td>TraceGraph_ELBO</td>\n",
       "    </tr>\n",
       "    <tr>\n",
       "      <th>8</th>\n",
       "      <td>0.008386</td>\n",
       "      <td>0.000122</td>\n",
       "      <td>0.021417</td>\n",
       "      <td>0.023163</td>\n",
       "      <td>129.072983</td>\n",
       "      <td>16</td>\n",
       "      <td>1</td>\n",
       "      <td>TraceGraph_ELBO</td>\n",
       "    </tr>\n",
       "  </tbody>\n",
       "</table>\n",
       "</div>"
      ],
      "text/plain": [
       "   epsilon_plus_error  epsilon_minus_error  mu_plus_error  mu_minus_error  \\\n",
       "0            0.009659             0.069949       0.034028        0.016305   \n",
       "1            0.011245             0.045665       0.025068        0.022351   \n",
       "2            0.011245             0.045665       0.025068        0.022351   \n",
       "3            0.011434             0.045747       0.025504        0.022913   \n",
       "4            0.011434             0.045747       0.025504        0.022913   \n",
       "5            0.011434             0.045747       0.025504        0.022913   \n",
       "6            0.011434             0.045747       0.025504        0.022913   \n",
       "7            0.011434             0.045747       0.025504        0.022913   \n",
       "8            0.008386             0.000122       0.021417        0.023163   \n",
       "\n",
       "     tot_time  hidden_factors  flows             loss  \n",
       "0   98.415250              16      1  TraceGraph_ELBO  \n",
       "1   90.856867              16      1  TraceGraph_ELBO  \n",
       "2   90.856867              16      1  TraceGraph_ELBO  \n",
       "3   71.087530              16      1  TraceGraph_ELBO  \n",
       "4   71.087530              16      1  TraceGraph_ELBO  \n",
       "5   71.087530              16      1  TraceGraph_ELBO  \n",
       "6   71.087530              16      1  TraceGraph_ELBO  \n",
       "7   93.569907              16      1  TraceGraph_ELBO  \n",
       "8  129.072983              16      1  TraceGraph_ELBO  "
      ]
     },
     "execution_count": 69,
     "metadata": {},
     "output_type": "execute_result"
    }
   ],
   "source": [
    "#exps =[]\n",
    "exps += [[[analyse_results(epsilon_plus, epsilon_minus, mu_plus, mu_minus, **res) for res in res_svinf][0][u] for u in [\"epsilon_plus_error\", \"epsilon_minus_error\", \"mu_plus_error\", \"mu_minus_error\", \"tot_time\"]] + [16, 1, \"TraceGraph_ELBO\"]]\n",
    "pd.DataFrame(exps, columns = [\"epsilon_plus_error\", \"epsilon_minus_error\", \"mu_plus_error\", \"mu_minus_error\", \"tot_time\", \"hidden_factors\", \"flows\", \"loss\"])"
   ]
  },
  {
   "cell_type": "code",
   "execution_count": 31,
   "metadata": {},
   "outputs": [
    {
     "name": "stderr",
     "output_type": "stream",
     "text": [
      "100%|██████████| 500/500 [01:48<00:00,  4.60it/s, init loss: 85.7430, avg. loss [476-500]: 13.4207]\n"
     ]
    }
   ],
   "source": [
    "exp = complete_experiment(N = 100, T = 20, edge_per_t = 5, rho = 32,\n",
    "                    method = \"sviNF\",\n",
    "                    epsilon_plus = None, epsilon_minus = None, mu_plus = None, mu_minus = None,\n",
    "                    n_steps = 1000, n_samples = 100, populations_budget = 10, num_chains = 1,\n",
    "                    intermediate_steps = None, intermediate_samples = None, warmup_samples = None, \n",
    "                    intermediate_populations = None, population_size = 200, progress_bar = True,\n",
    "                    lr = 0.01, timeout = 25000, id = None, date = None, save_data = False\n",
    "                        )"
   ]
  },
  {
   "cell_type": "code",
   "execution_count": 32,
   "metadata": {},
   "outputs": [
    {
     "data": {
      "text/plain": [
       "[{'id': None,\n",
       "  'mse_params': 0.00040177247137762606,\n",
       "  'mse_epsilon': 0.0002082852879539132,\n",
       "  'mse_mu': 0.000595259596593678,\n",
       "  'tot_time': 112.77577471733093,\n",
       "  'n_steps': 500,\n",
       "  'n_samples': None,\n",
       "  'method': 'sviNF',\n",
       "  'n_simulations': None,\n",
       "  'epsilon_plus_error': 0.0010448545,\n",
       "  'epsilon_minus_error': 0.020383298,\n",
       "  'mu_plus_error': 0.034335658,\n",
       "  'mu_minus_error': 0.0034032129,\n",
       "  'epsilon_plus_mean': 0.2489551454782486,\n",
       "  'epsilon_minus_mean': 0.7296167016029358,\n",
       "  'mu_plus_mean': 0.05566434562206268,\n",
       "  'mu_minus_mean': 0.05340321362018585,\n",
       "  'epsilon_plus_std': 0.013606677763164043,\n",
       "  'epsilon_minus_std': 0.024680383503437042,\n",
       "  'mu_plus_std': 0.022995080798864365,\n",
       "  'mu_minus_std': 0.021685583516955376,\n",
       "  'epsilon_plus_real': 0.25,\n",
       "  'epsilon_minus_real': 0.75,\n",
       "  'mu_plus_real': 0.09,\n",
       "  'mu_minus_real': 0.05,\n",
       "  'pos_interactions_plus': 41.0,\n",
       "  'pos_interactions_minus': 6.0,\n",
       "  'tot_interactions': 95,\n",
       "  'T': 20,\n",
       "  'N': 100,\n",
       "  'edge_per_t': 5,\n",
       "  'var_X_end': 0.08939463170579415,\n",
       "  'skew_X_end': -0.0010111603427745636,\n",
       "  'kurtosis_X_end': -1.3176830985633374,\n",
       "  'bimodality_X_end': 0.04581160654275566}]"
      ]
     },
     "execution_count": 32,
     "metadata": {},
     "output_type": "execute_result"
    }
   ],
   "source": [
    "exp"
   ]
  },
  {
   "cell_type": "code",
   "execution_count": null,
   "metadata": {},
   "outputs": [],
   "source": [
    "if __name__ == '__main__':\n",
    "    T, N = [int(sys.argv[k + 2]) for k in range(2)]\n",
    "    method = sys.argv[4]\n",
    "    date = sys.argv[5]\n",
    "\n",
    "    rep = sys.argv[1]\n",
    "    t0 = time()\n",
    "    edge_per_t = 10\n",
    "\n",
    "    id = f\"{rep}_{N}_{T}\"\n",
    "    \n",
    "    if not os.path.exists(f\"../data/update_{date}\"):\n",
    "        try:\n",
    "            os.mkdir(f\"../data/update_{date}\")\n",
    "        except:\n",
    "            None\n",
    "    \n",
    "    path = f\"../data/update_{date}/estimation_T{T}_N{N}_rep{rep}_method{method}.pkl\"\n",
    "\n",
    "    print(f\"++++++ update rep {rep} start {T} {N} {method} ++++++++\")\n",
    "\n",
    "    experiment = complete_experiment(N, T, edge_per_t, rho = 32,                    \n",
    "                        n_steps=800, n_samples=200, \n",
    "                        method = method, populations_budget = 40, #intermediate_populations = 5,\n",
    "                        population_size = 200, lr = 0.01,\n",
    "                        id = id, date = date\n",
    "                        )\n",
    "    \n",
    "    save_pickle(experiment, path)\n",
    "\n",
    "    print(f\">>>>>>>> update rep {rep} save {T} {N} {method} {round(time() - t0)}s <<<<<<<\")\n",
    "            \n"
   ]
  },
  {
   "cell_type": "code",
   "execution_count": 70,
   "metadata": {},
   "outputs": [],
   "source": [
    "import inference_update"
   ]
  },
  {
   "cell_type": "code",
   "execution_count": null,
   "metadata": {},
   "outputs": [],
   "source": [
    "res_inf = inference_update.train_svi(X, edges, guide_family = \"NF\", rho = 32,\n",
    "             n_steps = 10000, intermediate_steps = None, lr = 0.01,\n",
    "             progress_bar = True)\n"
   ]
  },
  {
   "cell_type": "code",
   "execution_count": null,
   "metadata": {},
   "outputs": [],
   "source": []
  },
  {
   "cell_type": "code",
   "execution_count": null,
   "metadata": {},
   "outputs": [],
   "source": []
  },
  {
   "cell_type": "code",
   "execution_count": null,
   "metadata": {},
   "outputs": [],
   "source": []
  },
  {
   "cell_type": "code",
   "execution_count": null,
   "metadata": {},
   "outputs": [],
   "source": []
  },
  {
   "cell_type": "code",
   "execution_count": null,
   "metadata": {},
   "outputs": [],
   "source": []
  }
 ],
 "metadata": {
  "kernelspec": {
   "display_name": "lotm_env",
   "language": "python",
   "name": "python3"
  },
  "language_info": {
   "codemirror_mode": {
    "name": "ipython",
    "version": 3
   },
   "file_extension": ".py",
   "mimetype": "text/x-python",
   "name": "python",
   "nbconvert_exporter": "python",
   "pygments_lexer": "ipython3",
   "version": "3.9.18"
  },
  "orig_nbformat": 4
 },
 "nbformat": 4,
 "nbformat_minor": 2
}
